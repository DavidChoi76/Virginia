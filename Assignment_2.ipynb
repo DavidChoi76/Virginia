{
 "cells": [
  {
   "cell_type": "markdown",
   "metadata": {},
   "source": [
    "# Assignment 2 for Stochastic Hydrology"
   ]
  },
  {
   "cell_type": "code",
   "execution_count": 1,
   "metadata": {},
   "outputs": [],
   "source": [
    "import numpy as np\n",
    "import scipy.stats as ss\n",
    "import HW1_utils # file with all functions for distribution fitting and plotting\n",
    "from matplotlib import pyplot as plt\n",
    "import pandas as pd\n",
    "import math\n",
    "\n",
    "%matplotlib inline\n",
    "\n",
    "# load data\n",
    "maxQ = np.loadtxt('Table6.2.csv', skiprows=1, delimiter = ',', usecols=[1])"
   ]
  },
  {
   "cell_type": "markdown",
   "metadata": {},
   "source": [
    "### Homework Problems 3"
   ]
  },
  {
   "cell_type": "code",
   "execution_count": 10,
   "metadata": {},
   "outputs": [
    {
     "data": {
      "text/plain": [
       "(array([6., 5., 7., 8., 4., 1., 4., 1., 3., 1.]),\n",
       " array([ 410.,  717., 1024., 1331., 1638., 1945., 2252., 2559., 2866.,\n",
       "        3173., 3480.]),\n",
       " <a list of 10 Patch objects>)"
      ]
     },
     "execution_count": 10,
     "metadata": {},
     "output_type": "execute_result"
    },
    {
     "data": {
      "image/png": "[encoded data removed]",
      "text/plain": [
       "<Figure size 432x288 with 1 Axes>"
      ]
     },
     "metadata": {
      "needs_background": "light"
     },
     "output_type": "display_data"
    }
   ],
   "source": [
    "plt.hist(maxQ)"
   ]
  },
  {
   "cell_type": "code",
   "execution_count": 21,
   "metadata": {},
   "outputs": [
    {
     "data": {
      "text/plain": [
       "SkewtestResult(statistic=1.889183117775271, pvalue=0.058867296059842186)"
      ]
     },
     "execution_count": 21,
     "metadata": {},
     "output_type": "execute_result"
    }
   ],
   "source": [
    "# Test whether the skew is different from the normal distribution\n",
    "ss.skewtest(maxQ)"
   ]
  },
  {
   "cell_type": "markdown",
   "metadata": {},
   "source": [
    "### Homework Problems 4"
   ]
  },
  {
   "cell_type": "markdown",
   "metadata": {},
   "source": [
    "#### 1) Calculate parameter values"
   ]
  },
  {
   "cell_type": "code",
   "execution_count": 2,
   "metadata": {},
   "outputs": [
    {
     "data": {
      "text/plain": [
       "(3.626571549642084, 0, 0.002340931803280457)"
      ]
     },
     "execution_count": 2,
     "metadata": {},
     "output_type": "execute_result"
    }
   ],
   "source": [
    "# fit 2-parameter Gamma with MOM\n",
    "alpha_Gamma_MOM2, xi_Gamma_MOM2, beta_Gamma_MOM2 = HW1_utils.fitGamma(maxQ, 'MOM', 2)\n",
    "alpha_Gamma_MOM2, xi_Gamma_MOM2, beta_Gamma_MOM2"
   ]
  },
  {
   "cell_type": "code",
   "execution_count": 3,
   "metadata": {},
   "outputs": [
    {
     "data": {
      "text/plain": [
       "(3.6433952198805817, 0, 0.0023517913890269697)"
      ]
     },
     "execution_count": 3,
     "metadata": {},
     "output_type": "execute_result"
    }
   ],
   "source": [
    "# fit 2-parameter Gamma with MLE\n",
    "alpha_Gamma_MLE2, xi_Gamma_MLE2, beta_Gamma_MLE2 = HW1_utils.fitGamma(maxQ, 'MLE', 2)\n",
    "alpha_Gamma_MLE2, xi_Gamma_MLE2, beta_Gamma_MLE2"
   ]
  },
  {
   "cell_type": "code",
   "execution_count": 4,
   "metadata": {},
   "outputs": [],
   "source": [
    "# fit Log-Pearson Type 3 using MOM\n",
    "# if skew is negative, beta will be negative, which Python doesn't allow\n",
    "# so fit to -log(data) and transform back\n",
    "if ss.skew(np.log(maxQ),bias=False) < 0:\n",
    "    alpha_LP3_MOM, xi_LP3_MOM, beta_LP3_MOM = HW1_utils.fitGamma(-np.log(maxQ), 'MOM', 3)\n",
    "# if skew is positive, beta will be positive, which Python does allow\n",
    "# so fit to +log(data) and transform back\n",
    "else:\n",
    "    alpha_LP3_MOM, x_LP3_MOMi, beta_LP3_MOM = HW1_utils.fitGamma(np.log(maxQ), 'MOM', 3)    "
   ]
  },
  {
   "cell_type": "code",
   "execution_count": 5,
   "metadata": {},
   "outputs": [
    {
     "data": {
      "text/plain": [
       "(320.07965927648956, -2.852647250408456, 31.834390381442926)"
      ]
     },
     "execution_count": 5,
     "metadata": {},
     "output_type": "execute_result"
    }
   ],
   "source": [
    "# fit Log-Pearson Type 3 using MLE\n",
    "alpha_LP3_MLE, xi_LP3_MLE, beta_LP3_MLE = HW1_utils.fitGamma(np.log(maxQ), 'MLE', 3)\n",
    "alpha_LP3_MLE, xi_LP3_MLE, beta_LP3_MLE"
   ]
  },
  {
   "cell_type": "code",
   "execution_count": 6,
   "metadata": {},
   "outputs": [
    {
     "data": {
      "text/plain": [
       "(1177.4043092004997, 629.3798508294669)"
      ]
     },
     "execution_count": 6,
     "metadata": {},
     "output_type": "execute_result"
    }
   ],
   "source": [
    "# fit Gumbel using MLE\n",
    "xi_Gumbel_MLE, alpha_Gumbel_MLE = HW1_utils.fitGumbel(maxQ, 'MLE')\n",
    "xi_Gumbel_MLE, alpha_Gumbel_MLE"
   ]
  },
  {
   "cell_type": "code",
   "execution_count": 7,
   "metadata": {},
   "outputs": [
    {
     "data": {
      "text/plain": [
       "(-0.035918510561574524, 1165.3845010967693, 620.2283038005058)"
      ]
     },
     "execution_count": 7,
     "metadata": {},
     "output_type": "execute_result"
    }
   ],
   "source": [
    "# fit GEV using MLE\n",
    "kappa_GEV_MLE, xi_GEV_MLE, alpha_GEV_MLE = HW1_utils.fitGEV(maxQ, 'MLE')\n",
    "kappa_GEV_MLE, xi_GEV_MLE, alpha_GEV_MLE"
   ]
  },
  {
   "cell_type": "markdown",
   "metadata": {},
   "source": [
    "#### 2) Create Functions of PPCT for each distribution"
   ]
  },
  {
   "cell_type": "code",
   "execution_count": 29,
   "metadata": {},
   "outputs": [],
   "source": [
    "# perform probability plot correlation test\n",
    "def GammaPPCT(data, alpha, beta, xi):\n",
    "    \n",
    "    x_sorted = np.sort(data)\n",
    "    p_observed = np.arange(1,len(x_sorted)+1,1)/(len(data)+1)\n",
    "\n",
    "    x_fitted = ss.gamma.ppf(p_observed, alpha, xi, 1/beta)\n",
    "    rho = np.corrcoef(x_sorted, x_fitted)[0,1]\n",
    "    print(rho)\n",
    "    plt.scatter(x_sorted, x_fitted)\n",
    "    plt.plot(x_sorted,x_sorted,color='r')\n",
    "    plt.xlabel('Observed_Flow (m^3/s)')\n",
    "    plt.ylabel('Fitted_Flow (m^3/s)')\n",
    "    #generate M synthetic samples of n observations\n",
    "    rhoVector = np.zeros(10000)\n",
    "    for i in range(10000):\n",
    "        x= ss.gamma.rvs(alpha, xi, 1/beta, len(data))\n",
    "        rhoVector[i] = np.corrcoef(np.sort(x), x_fitted)[0,1]\n",
    "    \n",
    "    count = 0\n",
    "    for i in range(len(rhoVector)):\n",
    "        if rho < rhoVector[i]:\n",
    "            count = count+1\n",
    "    print(count)\n",
    "    p_value = 1-float(count)/10000\n",
    "    return rho, p_value"
   ]
  },
  {
   "cell_type": "code",
   "execution_count": 30,
   "metadata": {},
   "outputs": [],
   "source": [
    "# perform probability plot correlation test\n",
    "def LP3PPCT(data, alpha, beta, xi):\n",
    "    \n",
    "    x_sorted = np.sort(data)\n",
    "    p_observed = np.arange(1,len(x_sorted)+1,1)/(len(data)+1)\n",
    "\n",
    "    x_fitted = ss.gamma.ppf(p_observed, alpha, xi, 1/beta)\n",
    "    rho = np.corrcoef(x_sorted, x_fitted)[0,1]\n",
    "    print(rho)\n",
    "    plt.scatter(x_sorted, x_fitted)\n",
    "    plt.plot(x_sorted,x_sorted,color='r')\n",
    "    plt.xlabel('Observed_Flow (m^3/s)')\n",
    "    plt.ylabel('Fitted_Flow (m^3/s)')\n",
    "    #generate M synthetic samples of n observations\n",
    "    rhoVector = np.zeros(10000)\n",
    "    for i in range(10000):\n",
    "        x= ss.gamma.rvs(alpha, xi, 1/beta, len(data))\n",
    "        rhoVector[i] = np.corrcoef(np.sort(x), x_fitted)[0,1]\n",
    "    \n",
    "    count = 0\n",
    "    for i in range(len(rhoVector)):\n",
    "        if rho < rhoVector[i]:\n",
    "            count = count+1\n",
    "    print(count)\n",
    "    p_value = 1-float(count)/10000\n",
    "    return rho, p_value"
   ]
  },
  {
   "cell_type": "code",
   "execution_count": 31,
   "metadata": {},
   "outputs": [],
   "source": [
    "# perform probability plot correlation test\n",
    "def GumbelPPCT(data, alpha, xi):\n",
    "    \n",
    "    x_sorted = np.sort(data)\n",
    "    p_observed = np.arange(1,len(x_sorted)+1,1)/(len(data)+1)\n",
    "\n",
    "    x_fitted = ss.gamma.ppf(p_observed, alpha, xi)\n",
    "    rho = np.corrcoef(x_sorted, x_fitted)[0,1]\n",
    "    print(rho)\n",
    "    plt.scatter(x_sorted, x_fitted)\n",
    "    plt.plot(x_sorted,x_sorted,color='r')\n",
    "    plt.xlabel('Observed_Flow (m^3/s)')\n",
    "    plt.ylabel('Fitted_Flow (m^3/s)')\n",
    "    #generate M synthetic samples of n observations\n",
    "    rhoVector = np.zeros(10000)\n",
    "    for i in range(10000):\n",
    "        x= ss.gamma.rvs(alpha, xi, len(data))\n",
    "        rhoVector[i] = np.corrcoef(np.sort(x), x_fitted)[0,1]\n",
    "    \n",
    "    count = 0\n",
    "    for i in range(len(rhoVector)):\n",
    "        if rho < rhoVector[i]:\n",
    "            count = count+1\n",
    "    print(count)\n",
    "    p_value = 1-float(count)/10000\n",
    "    return rho, p_value"
   ]
  },
  {
   "cell_type": "code",
   "execution_count": 32,
   "metadata": {},
   "outputs": [],
   "source": [
    "# perform probability plot correlation test\n",
    "def GumbelPPCT(data, alpha, xi):\n",
    "    \n",
    "    x_sorted = np.sort(data)\n",
    "    p_observed = np.arange(1,len(x_sorted)+1,1)/(len(data)+1)\n",
    "\n",
    "    x_fitted = ss.gumbel_r.ppf(p_observed, alpha, xi)\n",
    "    rho = np.corrcoef(x_sorted, x_fitted)[0,1]\n",
    "    print(rho)\n",
    "    plt.scatter(x_sorted, x_fitted)\n",
    "    plt.plot(x_sorted,x_sorted,color='r')\n",
    "    plt.xlabel('Observed_Flow (m^3/s)')\n",
    "    plt.ylabel('Fitted_Flow (m^3/s)')\n",
    "    #generate M synthetic samples of n observations\n",
    "    rhoVector = np.zeros(10000)\n",
    "    for i in range(10000):\n",
    "        x= ss.gumbel_r.rvs(alpha, xi, len(data))\n",
    "        rhoVector[i] = np.corrcoef(np.sort(x), x_fitted)[0,1]\n",
    "    \n",
    "    count = 0\n",
    "    for i in range(len(rhoVector)):\n",
    "        if rho < rhoVector[i]:\n",
    "            count = count+1\n",
    "    print(count)\n",
    "    p_value = 1-float(count)/10000\n",
    "    return rho, p_value"
   ]
  },
  {
   "cell_type": "code",
   "execution_count": 33,
   "metadata": {},
   "outputs": [],
   "source": [
    "# perform probability plot correlation test\n",
    "def GEVPPCT(data, kappa, xi, alpha):\n",
    "    \n",
    "    x_sorted = np.sort(data)\n",
    "    p_observed = np.arange(1,len(x_sorted)+1,1)/(len(data)+1)\n",
    "\n",
    "    x_fitted = ss.genextreme.ppf(p_observed, kappa, xi, alpha)\n",
    "    rho = np.corrcoef(x_sorted, x_fitted)[0,1]\n",
    "    print(rho)\n",
    "    plt.scatter(x_sorted, x_fitted)\n",
    "    plt.plot(x_sorted,x_sorted,color='r')\n",
    "    plt.xlabel('Observed_Flow (m^3/s)')\n",
    "    plt.ylabel('Fitted_Flow (m^3/s)')\n",
    "    #generate M synthetic samples of n observations\n",
    "    rhoVector = np.zeros(10000)\n",
    "    for i in range(10000):\n",
    "        x= ss.genextreme.rvs(kappa, xi, alpha, len(data))\n",
    "        rhoVector[i] = np.corrcoef(np.sort(x), x_fitted)[0,1]\n",
    "    \n",
    "    count = 0\n",
    "    for i in range(len(rhoVector)):\n",
    "        if rho < rhoVector[i]:\n",
    "            count = count+1\n",
    "    print(count)\n",
    "    p_value = 1-float(count)/10000\n",
    "    return rho, p_value"
   ]
  },
  {
   "cell_type": "markdown",
   "metadata": {},
   "source": [
    "#### (a) 2-parameter Gamma using MOM"
   ]
  },
  {
   "cell_type": "code",
   "execution_count": 34,
   "metadata": {},
   "outputs": [
    {
     "name": "stdout",
     "output_type": "stream",
     "text": [
      "0.9912418647339382\n",
      "2881\n",
      "0.9912418647339382   0.7119\n"
     ]
    },
    {
     "data": {
      "image/png": "[encoded data removed]",
      "text/plain": [
       "<Figure size 432x288 with 1 Axes>"
      ]
     },
     "metadata": {
      "needs_background": "light"
     },
     "output_type": "display_data"
    }
   ],
   "source": [
    "rho_Gamma_PPCT, p_Gamma_PPCT = GammaPPCT(maxQ, alpha_Gamma_MOM2, beta_Gamma_MOM2, xi_Gamma_MOM2)\n",
    "print(rho_Gamma_PPCT, \" \" , p_Gamma_PPCT)"
   ]
  },
  {
   "cell_type": "markdown",
   "metadata": {},
   "source": [
    "#### (b) 2-parameter Gamma using MLE"
   ]
  },
  {
   "cell_type": "code",
   "execution_count": 35,
   "metadata": {
    "scrolled": true
   },
   "outputs": [
    {
     "name": "stdout",
     "output_type": "stream",
     "text": [
      "0.9912411832993692\n",
      "2956\n",
      "0.9912411832993692   0.7044\n"
     ]
    },
    {
     "data": {
      "image/png": "[encoded data removed]",
      "text/plain": [
       "<Figure size 432x288 with 1 Axes>"
      ]
     },
     "metadata": {
      "needs_background": "light"
     },
     "output_type": "display_data"
    }
   ],
   "source": [
    "rho_Gamma_PPCT, p_Gamma_PPCT = GammaPPCT(maxQ, alpha_Gamma_MLE2, beta_Gamma_MLE2, xi_Gamma_MLE2)\n",
    "print(rho_Gamma_PPCT, \" \" , p_Gamma_PPCT)"
   ]
  },
  {
   "cell_type": "markdown",
   "metadata": {},
   "source": [
    "#### (c) Log-Pearson Type 3 using MOM"
   ]
  },
  {
   "cell_type": "code",
   "execution_count": 36,
   "metadata": {},
   "outputs": [
    {
     "name": "stdout",
     "output_type": "stream",
     "text": [
      "0.9934451485510513\n",
      "1559\n",
      "0.9934451485510513   0.8441\n"
     ]
    },
    {
     "data": {
      "image/png": "[encoded data removed]",
      "text/plain": [
       "<Figure size 432x288 with 1 Axes>"
      ]
     },
     "metadata": {
      "needs_background": "light"
     },
     "output_type": "display_data"
    }
   ],
   "source": [
    "rho_LP3_MOM_PPCT, p_LP3_MOM_PPCT = LP3PPCT(-np.log(maxQ), alpha_LP3_MOM, beta_LP3_MOM, xi_LP3_MOM)\n",
    "print(rho_LP3_MOM_PPCT, \" \" , p_LP3_MOM_PPCT)"
   ]
  },
  {
   "cell_type": "markdown",
   "metadata": {},
   "source": [
    "#### (d) Log-Pearson Type 3 using MLE"
   ]
  },
  {
   "cell_type": "code",
   "execution_count": 37,
   "metadata": {},
   "outputs": [
    {
     "name": "stdout",
     "output_type": "stream",
     "text": [
      "0.9875128889647798\n",
      "5546\n",
      "0.9875128889647798   0.4454\n"
     ]
    },
    {
     "data": {
      "image/png": "[encoded data removed]",
      "text/plain": [
       "<Figure size 432x288 with 1 Axes>"
      ]
     },
     "metadata": {
      "needs_background": "light"
     },
     "output_type": "display_data"
    }
   ],
   "source": [
    "rho_LP3_MLE_PPCT, p_LP3_MLE_PPCT = LP3PPCT(np.log(maxQ), alpha_LP3_MLE, beta_LP3_MLE, xi_LP3_MLE)\n",
    "print(rho_LP3_MLE_PPCT, \" \" , p_LP3_MLE_PPCT)"
   ]
  },
  {
   "cell_type": "markdown",
   "metadata": {},
   "source": [
    "#### (e) Gumbel using MLE"
   ]
  },
  {
   "cell_type": "code",
   "execution_count": 38,
   "metadata": {},
   "outputs": [
    {
     "name": "stdout",
     "output_type": "stream",
     "text": [
      "0.989949098382466\n",
      "3230\n",
      "0.989949098382466   0.677\n"
     ]
    },
    {
     "data": {
      "image/png": "[encoded data removed]",
      "text/plain": [
       "<Figure size 432x288 with 1 Axes>"
      ]
     },
     "metadata": {
      "needs_background": "light"
     },
     "output_type": "display_data"
    }
   ],
   "source": [
    "rho_Gumbel_PPCT, p_Gumbel_PPCT = GumbelPPCT(maxQ, alpha_Gumbel_MLE, xi_Gumbel_MLE)\n",
    "print(rho_Gumbel_PPCT, \" \" , p_Gumbel_PPCT)"
   ]
  },
  {
   "cell_type": "markdown",
   "metadata": {},
   "source": [
    "#### (f) GEV using MLE"
   ]
  },
  {
   "cell_type": "code",
   "execution_count": 39,
   "metadata": {},
   "outputs": [
    {
     "name": "stdout",
     "output_type": "stream",
     "text": [
      "0.9890818841356909\n",
      "3578\n",
      "0.9890818841356909   0.6422\n"
     ]
    },
    {
     "data": {
      "image/png": "[encoded data removed]",
      "text/plain": [
       "<Figure size 432x288 with 1 Axes>"
      ]
     },
     "metadata": {
      "needs_background": "light"
     },
     "output_type": "display_data"
    }
   ],
   "source": [
    "rho_GEV_PPCT, p_GEV_PPCT = GEVPPCT(maxQ, kappa_GEV_MLE, xi_GEV_MLE, alpha_GEV_MLE)\n",
    "print(rho_GEV_PPCT, \" \" , p_GEV_PPCT)"
   ]
  },
  {
   "cell_type": "code",
   "execution_count": null,
   "metadata": {},
   "outputs": [],
   "source": []
  }
 ],
 "metadata": {
  "kernelspec": {
   "display_name": "Python 3",
   "language": "python",
   "name": "python3"
  },
  "language_info": {
   "codemirror_mode": {
    "name": "ipython",
    "version": 3
   },
   "file_extension": ".py",
   "mimetype": "text/x-python",
   "name": "python",
   "nbconvert_exporter": "python",
   "pygments_lexer": "ipython3",
   "version": "3.6.8"
  }
 },
 "nbformat": 4,
 "nbformat_minor": 2
}
