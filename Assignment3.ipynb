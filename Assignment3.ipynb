{
 "cells": [
  {
   "cell_type": "markdown",
   "metadata": {},
   "source": [
    "### Problem 1"
   ]
  },
  {
   "cell_type": "code",
   "execution_count": 1,
   "metadata": {
    "collapsed": true
   },
   "outputs": [],
   "source": [
    "# define numbers object as a list of numbers\n",
    "numbers = [1, 1, 2, 3, 5, 8, 13, 21, 34, 55, 89]\n",
    "# define less_than_equal method to return a list of numbers that are less than or equal to the input value \n",
    "def less_than_equal(num):\n",
    "    # create less_than_equal_value object as list\n",
    "    less_than_equal_value=[]\n",
    "    # for loop that iterates over numbers list\n",
    "    for n in numbers:\n",
    "        # if n is less than or equal to the input value \"num\"\n",
    "        if n <= num:\n",
    "            # append n to less_than_equal_value list\n",
    "            less_than_equal_value.append(n)\n",
    "    # return the value of less_than_equal_value object when finish less_than_equal method \n",
    "    return less_than_equal_value"
   ]
  },
  {
   "cell_type": "code",
   "execution_count": 2,
   "metadata": {},
   "outputs": [
    {
     "data": {
      "text/plain": [
       "[1, 1, 2]"
      ]
     },
     "execution_count": 2,
     "metadata": {},
     "output_type": "execute_result"
    }
   ],
   "source": [
    "less_than_equal(2)"
   ]
  },
  {
   "cell_type": "code",
   "execution_count": 3,
   "metadata": {},
   "outputs": [
    {
     "data": {
      "text/plain": [
       "[1, 1, 2, 3, 5, 8, 13, 21, 34]"
      ]
     },
     "execution_count": 3,
     "metadata": {},
     "output_type": "execute_result"
    }
   ],
   "source": [
    "less_than_equal(34)"
   ]
  },
  {
   "cell_type": "markdown",
   "metadata": {},
   "source": [
    "### Problem 2"
   ]
  },
  {
   "cell_type": "code",
   "execution_count": 4,
   "metadata": {
    "collapsed": true
   },
   "outputs": [],
   "source": [
    "# define a and b object as a list of numbers\n",
    "a = [1, 1, 2, 3, 5, 8, 13, 21, 34, 55, 89] \n",
    "b = [1, 2, 3, 4, 5, 6, 7, 8, 9, 10, 11, 12, 13]\n",
    "# define find_common method to choose the numbers that are common between the two list without duplicates\n",
    "def find_common(list1, list2):\n",
    "    # create CommonList object as list\n",
    "    CommonList=[]\n",
    "    # for loop that iterates over list1 list\n",
    "    for i in list1:\n",
    "        # for loop that iterates over list2 list within list1 list\n",
    "        for j in list2:\n",
    "            # if i is equal to j and j is not in CommonList,\n",
    "            if i == j and j not in CommonList:\n",
    "                # append j to CommonList list \n",
    "                CommonList.append(j)\n",
    "    # return the the value of CommonList object when finish find_common method             \n",
    "    return CommonList"
   ]
  },
  {
   "cell_type": "code",
   "execution_count": 5,
   "metadata": {},
   "outputs": [
    {
     "data": {
      "text/plain": [
       "[1, 2, 3, 5, 8, 13]"
      ]
     },
     "execution_count": 5,
     "metadata": {},
     "output_type": "execute_result"
    }
   ],
   "source": [
    "find_common(a,b)"
   ]
  },
  {
   "cell_type": "markdown",
   "metadata": {},
   "source": [
    "### Problem 3"
   ]
  },
  {
   "cell_type": "code",
   "execution_count": 6,
   "metadata": {},
   "outputs": [],
   "source": [
    "# import random module to generate random number\n",
    "import random    \n",
    "# define guess_number method to return how many guess the user has taken and how many game trial the user have been\n",
    "def guess_number():\n",
    "    # create game_trial object as list with \n",
    "    game_trial = [1]\n",
    "    # create guess_trial object as list for each game trial\n",
    "    guess_trial = [0]\n",
    "    # create input_num object to set guessing number\n",
    "    guess_num = int\n",
    "    # create finish_st object to get user type \"exit\" as string or continue to play game\n",
    "    finish_st = str\n",
    "    # define i variable for game_trial as 0\n",
    "    i = 0\n",
    "    # define j variable for guess_trial as 0\n",
    "    j = 0\n",
    "    # while loop run until finish_st is equal to 'exit'  \n",
    "    while finish_st != 'exit':\n",
    "        # print divider to divide each game trial\n",
    "        print(\"###############################################\")\n",
    "        # print New Game start to address the start of new game\n",
    "        print(\"%d New Game start\" %(game_trial[i]))\n",
    "        # create rand_num object to set a random integer between 1 <= N <= 9\n",
    "        rand_num = random.randint(1,9)\n",
    "        # while loop run until input_num is equal to rand_num\n",
    "        while guess_num != rand_num:\n",
    "            # add guess_trial list\n",
    "            guess_trial[j] += 1 \n",
    "            # create guess_num object to set guess number from input\n",
    "            guess_num = int(input('Please guess random number between 0 and 9: '))\n",
    "            # if guess_num is larger than rand_num\n",
    "            if guess_num > rand_num:\n",
    "                # print \"too high\"\n",
    "                print('too high')\n",
    "            # if guess_num is smaller than rand_num    \n",
    "            if guess_num < rand_num:\n",
    "                # print \"too low\"\n",
    "                print('too low')\n",
    "        # when finish while loop, print \"exactly right\"        \n",
    "        print('exactly right')\n",
    "        # ask a user to continue the game or type exit to stop the game\n",
    "        finish_st = input(\"If you'd like to play the game again, please enter whatever you want \\n\"\n",
    "                          \"If you'd like to stop the game, please enter 'exit':\")\n",
    "        # if finish_st is equal to 'exit', stop while statement\n",
    "        if finish_st == 'exit':\n",
    "            break\n",
    "        # append game_trial list with adding '1' to game_trial[i]\n",
    "        game_trial.append(game_trial[i]+1)\n",
    "        # add '1' to i\n",
    "        i += 1\n",
    "        # append guess_trial list as '0'\n",
    "        guess_trial.append(0)\n",
    "        # add '1' to j\n",
    "        j += 1\n",
    "    # print 'Game finished'    \n",
    "    print(\"Game finished\")\n",
    "    # for loop that iterates over game_trial with enumerate method to get counter and value\n",
    "    for num, lists in enumerate(game_trial):\n",
    "        # print the number of game trial and guessing trial\n",
    "        print(\"In the %d game, you guessed %d times to match the random number\" %(lists, guess_trial[num]))"
   ]
  },
  {
   "cell_type": "code",
   "execution_count": 12,
   "metadata": {},
   "outputs": [
    {
     "name": "stdout",
     "output_type": "stream",
     "text": [
      "###############################################\n",
      "1 New Game start\n",
      "Please guess random number between 0 and 9: 5\n",
      "too low\n",
      "Please guess random number between 0 and 9: 7\n",
      "too high\n",
      "Please guess random number between 0 and 9: 6\n",
      "exactly right\n",
      "If you'd like to play the game again, please enter whatever you want \n",
      "If you'd like to stop the game, please enter 'exit':a\n",
      "###############################################\n",
      "2 New Game start\n",
      "Please guess random number between 0 and 9: 5\n",
      "too high\n",
      "Please guess random number between 0 and 9: 3\n",
      "too high\n",
      "Please guess random number between 0 and 9: 1\n",
      "exactly right\n",
      "If you'd like to play the game again, please enter whatever you want \n",
      "If you'd like to stop the game, please enter 'exit':a\n",
      "###############################################\n",
      "3 New Game start\n",
      "Please guess random number between 0 and 9: 5\n",
      "too high\n",
      "Please guess random number between 0 and 9: 3\n",
      "too low\n",
      "Please guess random number between 0 and 9: 4\n",
      "exactly right\n",
      "If you'd like to play the game again, please enter whatever you want \n",
      "If you'd like to stop the game, please enter 'exit':a\n",
      "###############################################\n",
      "4 New Game start\n",
      "Please guess random number between 0 and 9: 5\n",
      "too high\n",
      "Please guess random number between 0 and 9: 3\n",
      "too high\n",
      "Please guess random number between 0 and 9: 1\n",
      "too low\n",
      "Please guess random number between 0 and 9: 2\n",
      "exactly right\n",
      "If you'd like to play the game again, please enter whatever you want \n",
      "If you'd like to stop the game, please enter 'exit':exit\n",
      "Game finished\n",
      "On the 1 game, you tried 3 times to match the exact number\n",
      "On the 2 game, you tried 3 times to match the exact number\n",
      "On the 3 game, you tried 3 times to match the exact number\n",
      "On the 4 game, you tried 4 times to match the exact number\n"
     ]
    }
   ],
   "source": [
    "guess_number()"
   ]
  },
  {
   "cell_type": "code",
   "execution_count": null,
   "metadata": {
    "collapsed": true
   },
   "outputs": [],
   "source": []
  }
 ],
 "metadata": {
  "kernelspec": {
   "display_name": "Python 3",
   "language": "python",
   "name": "python3"
  },
  "language_info": {
   "codemirror_mode": {
    "name": "ipython",
    "version": 3
   },
   "file_extension": ".py",
   "mimetype": "text/x-python",
   "name": "python",
   "nbconvert_exporter": "python",
   "pygments_lexer": "ipython3",
   "version": "3.6.1"
  }
 },
 "nbformat": 4,
 "nbformat_minor": 2
}
