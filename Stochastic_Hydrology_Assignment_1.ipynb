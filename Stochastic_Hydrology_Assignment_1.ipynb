{
 "cells": [
  {
   "cell_type": "code",
   "execution_count": 1,
   "metadata": {},
   "outputs": [],
   "source": [
    "# import necessary Python libraries\n",
    "import numpy as np\n",
    "import scipy.stats as ss\n",
    "import matplotlib.pyplot as plt\n",
    "from scipy.optimize import root\n",
    "from math import gamma as GammaFN\n",
    "import math"
   ]
  },
  {
   "cell_type": "code",
   "execution_count": 2,
   "metadata": {},
   "outputs": [],
   "source": [
    "# load data of annual maxima at Azibe Soltane on the Sebou River in Morocca\n",
    "maxQ = np.loadtxt('Table6.2.csv', skiprows=1, delimiter = ',', usecols=[1])"
   ]
  },
  {
   "cell_type": "markdown",
   "metadata": {},
   "source": [
    "### 1. 3 Parameter log-normal using MLE"
   ]
  },
  {
   "cell_type": "code",
   "execution_count": 3,
   "metadata": {},
   "outputs": [
    {
     "data": {
      "text/plain": [
       "(6.7470594316304542, 409.99999999999989, 1.1069460838015344)"
      ]
     },
     "execution_count": 3,
     "metadata": {},
     "output_type": "execute_result"
    }
   ],
   "source": [
    "# fit a log-normal distribution to the data\n",
    "shape, loc, scale = ss.lognorm.fit(maxQ)\n",
    "shape, loc, scale"
   ]
  },
  {
   "cell_type": "code",
   "execution_count": 4,
   "metadata": {},
   "outputs": [
    {
     "data": {
      "text/plain": [
       "0.10160494775405472"
      ]
     },
     "execution_count": 4,
     "metadata": {},
     "output_type": "execute_result"
    }
   ],
   "source": [
    "math.log(scale)"
   ]
  },
  {
   "cell_type": "code",
   "execution_count": 5,
   "metadata": {},
   "outputs": [],
   "source": [
    "# convert shape and scale to estimates of mu and sigma\n",
    "mu_fit_LN = np.log(scale)\n",
    "sigma_fit_LN = shape"
   ]
  },
  {
   "cell_type": "code",
   "execution_count": 6,
   "metadata": {},
   "outputs": [],
   "source": [
    "# compute using equations from class for MLE\n",
    "mu_fit_LN_check = np.mean(np.log(maxQ))\n",
    "sigma_fit_LN_check = np.sqrt( np.mean( (np.log(maxQ) - mu_fit_LN_check)**2 ) )"
   ]
  },
  {
   "cell_type": "code",
   "execution_count": 7,
   "metadata": {},
   "outputs": [
    {
     "name": "stdout",
     "output_type": "stream",
     "text": [
      "7258391.46164\n"
     ]
    }
   ],
   "source": [
    "# estimate 100-yr flood\n",
    "q0_99_LN = ss.lognorm.ppf(0.99, shape, loc, scale)\n",
    "print(q0_99_LN)"
   ]
  },
  {
   "cell_type": "code",
   "execution_count": 8,
   "metadata": {},
   "outputs": [
    {
     "name": "stdout",
     "output_type": "stream",
     "text": [
      "300432788.082\n"
     ]
    }
   ],
   "source": [
    "# estimate 500-yr flood\n",
    "q0_998_LN = ss.lognorm.ppf(0.998, shape, loc, scale)\n",
    "print(q0_998_LN)"
   ]
  },
  {
   "cell_type": "code",
   "execution_count": 9,
   "metadata": {},
   "outputs": [
    {
     "data": {
      "text/plain": [
       "[]"
      ]
     },
     "execution_count": 9,
     "metadata": {},
     "output_type": "execute_result"
    },
    {
     "data": {
      "image/png": "[encoded data removed]",
      "text/plain": [
       "<matplotlib.figure.Figure at 0x7fd461292748>"
      ]
     },
     "metadata": {},
     "output_type": "display_data"
    }
   ],
   "source": [
    "# plot fit on top of histogram\n",
    "plt.hist(maxQ, density=True)\n",
    "x = np.arange(0,6500,10)\n",
    "f_x = ss.lognorm.pdf(x, shape, loc, scale)\n",
    "plt.plot(x,f_x)\n",
    "plt.plot([q0_99_LN,q0_99_LN],[0,0.001],c='k')\n",
    "plt.plot([q0_998_LN,q0_998_LN],[0,0.001],c='k')\n",
    "plt.ylim([0,0.001])\n",
    "plt.xlim([0,6000])\n",
    "plt.title('3-parameter log-normal MLE fit')\n",
    "plt.xlabel('Flow (m^3/s)')\n",
    "plt.ylabel('Probability Density')\n",
    "#plt.savefig('LN3_MLE_fit.png')\n",
    "plt.plot()"
   ]
  },
  {
   "cell_type": "markdown",
   "metadata": {},
   "source": [
    "### 2. 2 or 3-parameter Gamma using MLE or MoM"
   ]
  },
  {
   "cell_type": "code",
   "execution_count": 10,
   "metadata": {},
   "outputs": [],
   "source": [
    "def fitGamma(data, method, npars):\n",
    "    assert method == 'MLE' or method == 'MOM',\"method must = 'MLE' or 'MOM'\"\n",
    "    assert npars == 2 or npars == 3,\"npars must = 2 or 3\"\n",
    "    \n",
    "    xbar = np.mean(data)\n",
    "    std = np.std(data, ddof=1)\n",
    "    skew = ss.skew(data,bias=False)\n",
    "\n",
    "    if method == 'MLE':\n",
    "        if npars == 2:\n",
    "            shape, loc, scale = ss.gamma.fit(data,floc=0)\n",
    "        elif npars == 3:\n",
    "            shape, loc, scale = ss.gamma.fit(data)\n",
    "            \n",
    "        alpha = shape\n",
    "        beta = 1/scale\n",
    "        xi = loc\n",
    "    elif method == 'MOM':\n",
    "        if npars == 2:\n",
    "            alpha = xbar**2/std**2\n",
    "            beta = xbar/std**2\n",
    "            xi = 0\n",
    "        elif npars == 3:\n",
    "            alpha = 4/skew**2\n",
    "            beta = (2/skew)/std\n",
    "            xi = xbar - alpha/beta\n",
    "    \n",
    "    return alpha, beta, xi"
   ]
  },
  {
   "cell_type": "code",
   "execution_count": 11,
   "metadata": {},
   "outputs": [],
   "source": [
    "def findGammaReturnPd(data, alpha, beta, xi, T):\n",
    "    shape = alpha\n",
    "    loc = xi\n",
    "    scale = 1/beta\n",
    "    \n",
    "    q_T = ss.gamma.ppf(1-1/T, shape, loc, scale)\n",
    "    \n",
    "    return q_T"
   ]
  },
  {
   "cell_type": "code",
   "execution_count": 12,
   "metadata": {},
   "outputs": [
    {
     "data": {
      "text/plain": [
       "(3.6265715496420841, 0.002340931803280457, 0)"
      ]
     },
     "execution_count": 12,
     "metadata": {},
     "output_type": "execute_result"
    }
   ],
   "source": [
    "alpha_MOM2, beta_MOM2, xi_MOM2 = fitGamma(maxQ, 'MOM', 2)\n",
    "alpha_MOM2, beta_MOM2, xi_MOM2"
   ]
  },
  {
   "cell_type": "code",
   "execution_count": 13,
   "metadata": {},
   "outputs": [
    {
     "data": {
      "text/plain": [
       "(4034.3490576326421, 4923.0429984035936)"
      ]
     },
     "execution_count": 13,
     "metadata": {},
     "output_type": "execute_result"
    }
   ],
   "source": [
    "q_100_MOM2 = findGammaReturnPd(maxQ, alpha_MOM2, beta_MOM2, xi_MOM2, 100)\n",
    "q_500_MOM2 = findGammaReturnPd(maxQ, alpha_MOM2, beta_MOM2, xi_MOM2, 500)\n",
    "q_100_MOM2, q_500_MOM2"
   ]
  },
  {
   "cell_type": "code",
   "execution_count": 14,
   "metadata": {},
   "outputs": [
    {
     "data": {
      "text/plain": [
       "[]"
      ]
     },
     "execution_count": 14,
     "metadata": {},
     "output_type": "execute_result"
    },
    {
     "data": {
      "image/png": "[encoded data removed]",
      "text/plain": [
       "<matplotlib.figure.Figure at 0x7fd4612e0a58>"
      ]
     },
     "metadata": {},
     "output_type": "display_data"
    }
   ],
   "source": [
    "# plot fit on top of histogram\n",
    "plt.hist(maxQ, density=True)\n",
    "x = np.arange(0,6000,10)\n",
    "f_x = ss.gamma.pdf(x, alpha_MOM2, xi_MOM2, 1/beta_MOM2)  \n",
    "plt.plot(x,f_x)\n",
    "plt.plot([q_100_MOM2,q_100_MOM2],[0,0.001],c='k')\n",
    "plt.plot([q_500_MOM2,q_500_MOM2],[0,0.001],c='k')\n",
    "plt.ylim([0,0.001])\n",
    "plt.xlim([0,6000])\n",
    "plt.title('2-parameter Gamma MoM fit')\n",
    "plt.xlabel('Flow (m^3/s)')\n",
    "plt.ylabel('Probability Density')\n",
    "#plt.savefig('LN3_MLE_fit.png')\n",
    "plt.plot()"
   ]
  },
  {
   "cell_type": "code",
   "execution_count": 15,
   "metadata": {},
   "outputs": [
    {
     "data": {
      "text/plain": [
       "(3.643395219880583, 0.0023517913890269706, 0)"
      ]
     },
     "execution_count": 15,
     "metadata": {},
     "output_type": "execute_result"
    }
   ],
   "source": [
    "alpha_MLE2, beta_MLE2, xi_MLE2 = fitGamma(maxQ, 'MLE', 2)\n",
    "alpha_MLE2, beta_MLE2, xi_MLE2"
   ]
  },
  {
   "cell_type": "code",
   "execution_count": 16,
   "metadata": {},
   "outputs": [
    {
     "data": {
      "text/plain": [
       "(4027.3426510454819, 4912.9233359430336)"
      ]
     },
     "execution_count": 16,
     "metadata": {},
     "output_type": "execute_result"
    }
   ],
   "source": [
    "q_100_MLE2 = findGammaReturnPd(maxQ, alpha_MLE2, beta_MLE2, xi_MLE2, 100)\n",
    "q_500_MLE2 = findGammaReturnPd(maxQ, alpha_MLE2, beta_MLE2, xi_MLE2, 500)\n",
    "q_100_MLE2, q_500_MLE2"
   ]
  },
  {
   "cell_type": "code",
   "execution_count": 17,
   "metadata": {},
   "outputs": [
    {
     "data": {
      "text/plain": [
       "[]"
      ]
     },
     "execution_count": 17,
     "metadata": {},
     "output_type": "execute_result"
    },
    {
     "data": {
      "image/png": "[encoded data removed]",
      "text/plain": [
       "<matplotlib.figure.Figure at 0x7fd4612e0208>"
      ]
     },
     "metadata": {},
     "output_type": "display_data"
    }
   ],
   "source": [
    "# plot fit on top of histogram\n",
    "plt.hist(maxQ, density=True)\n",
    "x = np.arange(0,6000,10)\n",
    "f_x = ss.gamma.pdf(x, alpha_MLE2, xi_MLE2, 1/beta_MLE2)  \n",
    "plt.plot(x,f_x)\n",
    "plt.plot([q_100_MLE2,q_100_MLE2],[0,0.001],c='k')\n",
    "plt.plot([q_500_MLE2,q_500_MLE2],[0,0.001],c='k')\n",
    "plt.ylim([0,0.001])\n",
    "plt.xlim([0,6000])\n",
    "plt.title('2-parameter Gamma MLE fit')\n",
    "plt.xlabel('Flow (m^3/s)')\n",
    "plt.ylabel('Probability Density')\n",
    "#plt.savefig('LN3_MLE_fit.png')\n",
    "plt.plot()"
   ]
  },
  {
   "cell_type": "markdown",
   "metadata": {},
   "source": [
    "### 3. Log-Pearson Type 3 using MLE or MoM"
   ]
  },
  {
   "cell_type": "code",
   "execution_count": 44,
   "metadata": {},
   "outputs": [],
   "source": [
    "def fitGamma(data, method):\n",
    "    assert method == 'MLE' or method == 'MOM',\"method must = 'MLE' or 'MOM'\"\n",
    "    \n",
    "    xbar = np.mean(data)\n",
    "    std = np.std(data, ddof=1)\n",
    "    skew = ss.skew(data,bias=False)\n",
    "\n",
    "    if method == 'MLE':\n",
    "        shape, loc, scale = ss.gamma.fit(np.log(data))\n",
    "            \n",
    "        alpha = shape\n",
    "        beta = 1/scale\n",
    "        xi = loc\n",
    "    elif method == 'MOM':\n",
    "        alpha = 4*(xbar**3)/xbar**2\n",
    "        beta = xbar/2/xbar**0.5\n",
    "        xi = xbar - alpha*beta\n",
    "    \n",
    "    return alpha, beta, xi"
   ]
  },
  {
   "cell_type": "code",
   "execution_count": 45,
   "metadata": {},
   "outputs": [
    {
     "data": {
      "text/plain": [
       "(320.07965927648956, 31.834390381442926, -2.8526472504084559)"
      ]
     },
     "execution_count": 45,
     "metadata": {},
     "output_type": "execute_result"
    }
   ],
   "source": [
    "alpha, beta, xi = fitGamma(maxQ, 'MLE')\n",
    "alpha, beta, xi"
   ]
  },
  {
   "cell_type": "code",
   "execution_count": 46,
   "metadata": {},
   "outputs": [
    {
     "data": {
      "text/plain": [
       "5194.088978287922"
      ]
     },
     "execution_count": 46,
     "metadata": {},
     "output_type": "execute_result"
    }
   ],
   "source": [
    "# estimate 100-yr flood\n",
    "q0_99 = ss.gamma.ppf(0.99, alpha, xi, 1/beta)\n",
    "math.exp(q0_99)"
   ]
  },
  {
   "cell_type": "code",
   "execution_count": 47,
   "metadata": {},
   "outputs": [
    {
     "data": {
      "text/plain": [
       "7301.308478863522"
      ]
     },
     "execution_count": 47,
     "metadata": {},
     "output_type": "execute_result"
    }
   ],
   "source": [
    "# estimate 500-yr flood\n",
    "q0_998 = ss.gamma.ppf(0.998, alpha, xi, 1/beta)\n",
    "math.exp(q0_998)"
   ]
  },
  {
   "cell_type": "code",
   "execution_count": 48,
   "metadata": {},
   "outputs": [
    {
     "data": {
      "text/plain": [
       "(8.5552765230516865, 8.895808854754188)"
      ]
     },
     "execution_count": 48,
     "metadata": {},
     "output_type": "execute_result"
    }
   ],
   "source": [
    "q_100_MLE2 = findGammaReturnPd(maxQ, alpha, beta, xi, 100)\n",
    "q_500_MLE2 = findGammaReturnPd(maxQ, alpha, beta, xi, 500)\n",
    "q_100_MLE2, q_500_MLE2"
   ]
  },
  {
   "cell_type": "code",
   "execution_count": 49,
   "metadata": {},
   "outputs": [
    {
     "data": {
      "text/plain": [
       "[]"
      ]
     },
     "execution_count": 49,
     "metadata": {},
     "output_type": "execute_result"
    },
    {
     "data": {
      "image/png": "[encoded data removed]",
      "text/plain": [
       "<matplotlib.figure.Figure at 0x7fd45ef209e8>"
      ]
     },
     "metadata": {},
     "output_type": "display_data"
    }
   ],
   "source": [
    "plt.hist(np.log(maxQ), density=True)\n",
    "x = np.arange(0,10,0.1)\n",
    "f_x = ss.gamma.pdf(x, alpha, xi, 1/beta)\n",
    "plt.plot(x,f_x)\n",
    "plt.title('Log-Pearson Type MLE fit')\n",
    "plt.xlabel('Flow (m^3/s)')\n",
    "plt.ylabel('Probability Density')\n",
    "#plt.savefig('LN3_MLE_fit.png')\n",
    "plt.plot()"
   ]
  },
  {
   "cell_type": "code",
   "execution_count": 24,
   "metadata": {},
   "outputs": [
    {
     "data": {
      "text/plain": [
       "(6196.8000000000002, 19.679939024295784, -120403.44614575613)"
      ]
     },
     "execution_count": 24,
     "metadata": {},
     "output_type": "execute_result"
    }
   ],
   "source": [
    "alpha, beta, xi = fitGamma(maxQ, 'MOM')\n",
    "alpha, beta, xi"
   ]
  },
  {
   "cell_type": "code",
   "execution_count": 25,
   "metadata": {},
   "outputs": [
    {
     "data": {
      "text/plain": [
       "[<matplotlib.lines.Line2D at 0x7fd45f1fe7b8>]"
      ]
     },
     "execution_count": 25,
     "metadata": {},
     "output_type": "execute_result"
    },
    {
     "data": {
      "image/png": "[encoded data removed]",
      "text/plain": [
       "<matplotlib.figure.Figure at 0x7fd45f228710>"
      ]
     },
     "metadata": {},
     "output_type": "display_data"
    }
   ],
   "source": [
    "plt.hist(np.log(maxQ), density=True)\n",
    "x = np.arange(0,10,0.1)\n",
    "f_x = ss.gamma.pdf(x, alpha, xi, 1/beta)\n",
    "plt.plot(x,f_x)"
   ]
  },
  {
   "cell_type": "markdown",
   "metadata": {},
   "source": [
    "### 4. Gumbel Distribution"
   ]
  },
  {
   "cell_type": "code",
   "execution_count": 28,
   "metadata": {},
   "outputs": [
    {
     "data": {
      "text/plain": [
       "(1177.4043092004997, 629.37985082946693)"
      ]
     },
     "execution_count": 28,
     "metadata": {},
     "output_type": "execute_result"
    }
   ],
   "source": [
    "# fit a Gumbel distribution to the data\n",
    "loc, scale = ss.gumbel_r.fit(maxQ)\n",
    "loc, scale"
   ]
  },
  {
   "cell_type": "code",
   "execution_count": 29,
   "metadata": {},
   "outputs": [
    {
     "data": {
      "text/plain": [
       "0.0015888656090309987"
      ]
     },
     "execution_count": 29,
     "metadata": {},
     "output_type": "execute_result"
    }
   ],
   "source": [
    "1/scale"
   ]
  },
  {
   "cell_type": "code",
   "execution_count": 30,
   "metadata": {},
   "outputs": [
    {
     "name": "stdout",
     "output_type": "stream",
     "text": [
      "4072.64554334\n"
     ]
    }
   ],
   "source": [
    "# estimate 100-yr flood\n",
    "q0_99 = ss.gumbel_r.ppf(0.99, loc, scale)\n",
    "print(q0_99)"
   ]
  },
  {
   "cell_type": "code",
   "execution_count": 31,
   "metadata": {},
   "outputs": [
    {
     "name": "stdout",
     "output_type": "stream",
     "text": [
      "5088.12352218\n"
     ]
    }
   ],
   "source": [
    "# estimate 500-yr flood\n",
    "q0_998 = ss.gumbel_r.ppf(0.998, loc, scale)\n",
    "print(q0_998)"
   ]
  },
  {
   "cell_type": "code",
   "execution_count": 32,
   "metadata": {},
   "outputs": [
    {
     "data": {
      "text/plain": [
       "[]"
      ]
     },
     "execution_count": 32,
     "metadata": {},
     "output_type": "execute_result"
    },
    {
     "data": {
      "image/png": "[encoded data removed]",
      "text/plain": [
       "<matplotlib.figure.Figure at 0x7fd45ef9eba8>"
      ]
     },
     "metadata": {},
     "output_type": "display_data"
    }
   ],
   "source": [
    "# plot fit on top of histogram\n",
    "plt.hist(maxQ, density=True)\n",
    "x = np.arange(0,6000,10)\n",
    "f_x = ss.gumbel_r.pdf(x, loc, scale)\n",
    "plt.plot(x,f_x)\n",
    "plt.plot([q0_99,q0_99],[0,0.001],c='k')\n",
    "plt.plot([q0_998,q0_998],[0,0.001],c='k')\n",
    "plt.ylim([0,0.001])\n",
    "plt.xlim([0,6000])\n",
    "plt.title('Gumbel MLE fit')\n",
    "plt.xlabel('Flow (m^3/s)')\n",
    "plt.ylabel('Probability Density')\n",
    "#plt.savefig('LN3_MLE_fit.png')\n",
    "plt.plot()"
   ]
  },
  {
   "cell_type": "code",
   "execution_count": null,
   "metadata": {},
   "outputs": [],
   "source": []
  },
  {
   "cell_type": "markdown",
   "metadata": {},
   "source": [
    "### 5. GEV Distribution"
   ]
  },
  {
   "cell_type": "code",
   "execution_count": 50,
   "metadata": {},
   "outputs": [
    {
     "data": {
      "text/plain": [
       "(-0.035918510561574524, 1165.3845010967693, 620.22830380050584)"
      ]
     },
     "execution_count": 50,
     "metadata": {},
     "output_type": "execute_result"
    }
   ],
   "source": [
    "# fit a GEV distribution to the data\n",
    "shape, loc, scale = ss.genextreme.fit(maxQ)\n",
    "shape, loc, scale"
   ]
  },
  {
   "cell_type": "code",
   "execution_count": 51,
   "metadata": {},
   "outputs": [
    {
     "name": "stdout",
     "output_type": "stream",
     "text": [
      "4267.77719058\n"
     ]
    }
   ],
   "source": [
    "# estimate 100-yr flood\n",
    "q0_99 = ss.genextreme.ppf(0.99, shape, loc, scale)\n",
    "print(q0_99)"
   ]
  },
  {
   "cell_type": "code",
   "execution_count": 52,
   "metadata": {},
   "outputs": [
    {
     "name": "stdout",
     "output_type": "stream",
     "text": [
      "5483.15992777\n"
     ]
    }
   ],
   "source": [
    "# estimate 500-yr flood\n",
    "q0_998 = ss.genextreme.ppf(0.998, shape, loc, scale)\n",
    "print(q0_998)"
   ]
  },
  {
   "cell_type": "code",
   "execution_count": 53,
   "metadata": {},
   "outputs": [
    {
     "data": {
      "text/plain": [
       "[]"
      ]
     },
     "execution_count": 53,
     "metadata": {},
     "output_type": "execute_result"
    },
    {
     "data": {
      "image/png": "[encoded data removed]",
      "text/plain": [
       "<matplotlib.figure.Figure at 0x7fd45f13ab38>"
      ]
     },
     "metadata": {},
     "output_type": "display_data"
    }
   ],
   "source": [
    "# plot fit on top of histogram\n",
    "plt.hist(maxQ, density=True)\n",
    "x = np.arange(0,6000,10)\n",
    "f_x = ss.genextreme.pdf(x, shape, loc, scale)\n",
    "plt.plot(x,f_x)\n",
    "plt.plot([q0_99,q0_99],[0,0.001],c='k')\n",
    "plt.plot([q0_998,q0_998],[0,0.001],c='k')\n",
    "plt.ylim([0,0.001])\n",
    "plt.xlim([0,6000])\n",
    "plt.title('GEV MLE fit')\n",
    "plt.xlabel('Flow (m^3/s)')\n",
    "plt.ylabel('Probability Density')\n",
    "#plt.savefig('LN3_MLE_fit.png')\n",
    "plt.plot()"
   ]
  }
 ],
 "metadata": {
  "kernelspec": {
   "display_name": "Python 3",
   "language": "python",
   "name": "python3"
  },
  "language_info": {
   "codemirror_mode": {
    "name": "ipython",
    "version": 3
   },
   "file_extension": ".py",
   "mimetype": "text/x-python",
   "name": "python",
   "nbconvert_exporter": "python",
   "pygments_lexer": "ipython3",
   "version": "3.6.3"
  }
 },
 "nbformat": 4,
 "nbformat_minor": 2
}
