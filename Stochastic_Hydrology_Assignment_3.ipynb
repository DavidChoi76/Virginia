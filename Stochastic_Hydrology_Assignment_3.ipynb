{
 "cells": [
  {
   "cell_type": "markdown",
   "metadata": {},
   "source": [
    "## Stochastic Hydrology Assignment 3"
   ]
  },
  {
   "cell_type": "code",
   "execution_count": 26,
   "metadata": {},
   "outputs": [],
   "source": [
    "import numpy as np\n",
    "import HW1_utils\n",
    "from astropy.stats import bootstrap as bootstrap"
   ]
  },
  {
   "cell_type": "code",
   "execution_count": 35,
   "metadata": {},
   "outputs": [],
   "source": [
    "# load data of annual maxima at Azibe Soltane on the Sebou River in Morocco\n",
    "maxQ = np.loadtxt('Table6.2.csv', skiprows=1, delimiter = ',', usecols=[1])"
   ]
  },
  {
   "cell_type": "markdown",
   "metadata": {},
   "source": [
    "### Problem 1"
   ]
  },
  {
   "cell_type": "code",
   "execution_count": 3,
   "metadata": {},
   "outputs": [],
   "source": [
    "# (a) fit a 3-parameter log-normal using MLE and estimate the 100-yr and 500-yr floods \n",
    "sigma, tau, mu = HW1_utils.fitLN(maxQ, 'MLE', 3)\n",
    "q_100 = HW1_utils.findLNreturnPd(sigma, tau, mu, 100)\n",
    "q_500 = HW1_utils.findLNreturnPd(sigma, tau, mu, 500)"
   ]
  },
  {
   "cell_type": "code",
   "execution_count": 4,
   "metadata": {},
   "outputs": [
    {
     "data": {
      "text/plain": [
       "(89052.99028691257, 430946533.78626317, 1042765.2667005218, 41061042946.11593)"
      ]
     },
     "execution_count": 4,
     "metadata": {},
     "output_type": "execute_result"
    }
   ],
   "source": [
    "# estimate 95% confidence intervals on 100-yr and 500-yr floods using bootstrapping\n",
    "samples = bootstrap(maxQ, 1000)\n",
    "q_100_vec = np.zeros(1000)\n",
    "q_500_vec = np.zeros(1000)\n",
    "for i in range(1000):\n",
    "    sigma, tau, mu = HW1_utils.fitLN(samples[i,:], 'MLE',3)\n",
    "    q_100_vec[i] = HW1_utils.findLNreturnPd(sigma, tau, mu, 100)\n",
    "    q_500_vec[i] = HW1_utils.findLNreturnPd(sigma, tau, mu, 500)\n",
    "\n",
    "q_100_vec = np.sort(q_100_vec)\n",
    "q_500_vec = np.sort(q_500_vec)\n",
    "\n",
    "alpha = 0.05 # 95% CI\n",
    "q_100_lower = q_100_vec[int(alpha/2*1000)]\n",
    "q_100_upper = q_100_vec[int(1 - alpha/2*1000)]\n",
    "\n",
    "q_500_lower = q_500_vec[int(alpha/2*1000)]\n",
    "q_500_upper = q_500_vec[int(1 - alpha/2*1000)]\n",
    "q_100_lower, q_100_upper, q_500_lower, q_500_upper"
   ]
  },
  {
   "cell_type": "code",
   "execution_count": 5,
   "metadata": {},
   "outputs": [],
   "source": [
    "# (b) fit a 2-parameter Gamma with MOM and estimate the 100-yr and 500-yr floods\n",
    "alpha_Gamma_MOM2, xi_Gamma_MOM2, beta_Gamma_MOM2 = HW1_utils.fitGamma(maxQ, 'MOM', 2)\n",
    "q_100 = HW1_utils.findGammaReturnPd(alpha_Gamma_MOM2, xi_Gamma_MOM2, beta_Gamma_MOM2, 100)\n",
    "q_500 = HW1_utils.findGammaReturnPd(alpha_Gamma_MOM2, xi_Gamma_MOM2, beta_Gamma_MOM2, 500)"
   ]
  },
  {
   "cell_type": "code",
   "execution_count": 6,
   "metadata": {},
   "outputs": [
    {
     "data": {
      "text/plain": [
       "(3241.6909182437957, 4651.990319575645, 3879.570020605855, 5725.601748533206)"
      ]
     },
     "execution_count": 6,
     "metadata": {},
     "output_type": "execute_result"
    }
   ],
   "source": [
    "# estimate 95% confidence intervals on 100-yr and 500-yr floods using bootstrapping\n",
    "samples = bootstrap(maxQ, 10000)\n",
    "q_100_vec = np.zeros(10000)\n",
    "q_500_vec = np.zeros(10000)\n",
    "for i in range(10000):\n",
    "    alpha_Gamma_MOM2, xi_Gamma_MOM2, beta_Gamma_MOM2 = HW1_utils.fitGamma(samples[i,:], 'MOM',2)\n",
    "    q_100_vec[i] = HW1_utils.findGammaReturnPd(alpha_Gamma_MOM2, xi_Gamma_MOM2, beta_Gamma_MOM2, 100)\n",
    "    q_500_vec[i] = HW1_utils.findGammaReturnPd(alpha_Gamma_MOM2, xi_Gamma_MOM2, beta_Gamma_MOM2, 500)\n",
    "\n",
    "q_100_vec = np.sort(q_100_vec)\n",
    "q_500_vec = np.sort(q_500_vec)\n",
    "\n",
    "alpha = 0.05 # 95% CI\n",
    "q_100_lower = q_100_vec[int(alpha/2*10000)]\n",
    "q_100_upper = q_100_vec[int(1 - alpha/2*10000)]\n",
    "\n",
    "q_500_lower = q_500_vec[int(alpha/2*10000)]\n",
    "q_500_upper = q_500_vec[int(1 - alpha/2*10000)]\n",
    "q_100_lower, q_100_upper, q_500_lower, q_500_upper"
   ]
  },
  {
   "cell_type": "code",
   "execution_count": 7,
   "metadata": {},
   "outputs": [],
   "source": [
    "# (c) fit a 2-parameter Gamma with MLE and estimate the 100-yr and 500-yr floods\n",
    "alpha_Gamma_MLE2, xi_Gamma_MLE2, beta_Gamma_MLE2 = HW1_utils.fitGamma(maxQ, 'MLE', 2)\n",
    "q_100 = HW1_utils.findGammaReturnPd(alpha_Gamma_MLE2, xi_Gamma_MLE2, beta_Gamma_MLE2, 100)\n",
    "q_500 = HW1_utils.findGammaReturnPd(alpha_Gamma_MLE2, xi_Gamma_MLE2, beta_Gamma_MLE2, 500)"
   ]
  },
  {
   "cell_type": "code",
   "execution_count": 8,
   "metadata": {},
   "outputs": [
    {
     "data": {
      "text/plain": [
       "(3194.168298125855, 4776.045259056647, 3817.1879893347345, 5895.027960182875)"
      ]
     },
     "execution_count": 8,
     "metadata": {},
     "output_type": "execute_result"
    }
   ],
   "source": [
    "# estimate 95% confidence intervals on 100-yr and 500-yr floods using bootstrapping\n",
    "samples = bootstrap(maxQ, 10000)\n",
    "q_100_vec = np.zeros(10000)\n",
    "q_500_vec = np.zeros(10000)\n",
    "for i in range(10000):\n",
    "    alpha_Gamma_MLE2, xi_Gamma_MLE2, beta_Gamma_MLE2 = HW1_utils.fitGamma(samples[i,:], 'MLE',2)\n",
    "    q_100_vec[i] = HW1_utils.findGammaReturnPd(alpha_Gamma_MLE2, xi_Gamma_MLE2, beta_Gamma_MLE2, 100)\n",
    "    q_500_vec[i] = HW1_utils.findGammaReturnPd(alpha_Gamma_MLE2, xi_Gamma_MLE2, beta_Gamma_MLE2, 500)\n",
    "\n",
    "q_100_vec = np.sort(q_100_vec)\n",
    "q_500_vec = np.sort(q_500_vec)\n",
    "\n",
    "alpha = 0.05 # 95% CI\n",
    "q_100_lower = q_100_vec[int(alpha/2*10000)]\n",
    "q_100_upper = q_100_vec[int(1 - alpha/2*10000)]\n",
    "\n",
    "q_500_lower = q_500_vec[int(alpha/2*10000)]\n",
    "q_500_upper = q_500_vec[int(1 - alpha/2*10000)]\n",
    "q_100_lower, q_100_upper, q_500_lower, q_500_upper"
   ]
  },
  {
   "cell_type": "code",
   "execution_count": 9,
   "metadata": {},
   "outputs": [],
   "source": [
    "# (d) fit a Log-Pearson Type 3 with MOM and estimate the 100-yr and 500-yr floods\n",
    "alpha_LP3_MOM, xi_LP3_MOM, beta_LP3_MOM = HW1_utils.fitGamma(np.log(maxQ), 'MOM', 3)\n",
    "q_100 = np.exp(-HW1_utils.findGammaReturnPd(alpha_LP3_MOM, xi_LP3_MOM, beta_LP3_MOM, 100/99))\n",
    "q_500 = np.exp(-HW1_utils.findGammaReturnPd(alpha_LP3_MOM, xi_LP3_MOM, beta_LP3_MOM, 500/499))"
   ]
  },
  {
   "cell_type": "code",
   "execution_count": 10,
   "metadata": {},
   "outputs": [
    {
     "data": {
      "text/plain": [
       "(3849.2870867411425, 6832.6714353071275, 5120.625398229102, 10298.196262060008)"
      ]
     },
     "execution_count": 10,
     "metadata": {},
     "output_type": "execute_result"
    }
   ],
   "source": [
    "# estimate 95% confidence intervals on 100-yr and 500-yr floods using bootstrapping\n",
    "samples = bootstrap(maxQ, 10000)\n",
    "q_100_vec = np.zeros(10000)\n",
    "q_500_vec = np.zeros(10000)\n",
    "for i in range(10000):\n",
    "    alpha_LP3_MOM, xi_LP3_MOM, beta_LP3_MOM = HW1_utils.fitGamma(np.log(samples[i,:]), 'MLE',2)\n",
    "    q_100_vec[i] = np.exp(HW1_utils.findGammaReturnPd(alpha_LP3_MOM, xi_LP3_MOM, beta_LP3_MOM, 100))\n",
    "    q_500_vec[i] = np.exp(HW1_utils.findGammaReturnPd(alpha_LP3_MOM, xi_LP3_MOM, beta_LP3_MOM, 500))\n",
    "\n",
    "q_100_vec = np.sort(q_100_vec)\n",
    "q_500_vec = np.sort(q_500_vec)\n",
    "\n",
    "alpha = 0.05 # 95% CI\n",
    "q_100_lower = q_100_vec[int(alpha/2*10000)]\n",
    "q_100_upper = q_100_vec[int(1 - alpha/2*10000)]\n",
    "\n",
    "q_500_lower = q_500_vec[int(alpha/2*10000)]\n",
    "q_500_upper = q_500_vec[int(1 - alpha/2*10000)]\n",
    "q_100_lower, q_100_upper, q_500_lower, q_500_upper"
   ]
  },
  {
   "cell_type": "code",
   "execution_count": 11,
   "metadata": {},
   "outputs": [],
   "source": [
    "# (e) fit a Log-Pearson Type 3 with MLE and estimate the 100-yr and 500-yr floods\n",
    "alpha_LP3_MLE, xi_LP3_MLE, beta_LP3_MLE = HW1_utils.fitGamma(np.log(maxQ), 'MLE', 3)\n",
    "q_100 = np.exp(HW1_utils.findGammaReturnPd(alpha_LP3_MLE, xi_LP3_MLE, beta_LP3_MLE, 100))\n",
    "q_500 = np.exp(HW1_utils.findGammaReturnPd(alpha_LP3_MLE, xi_LP3_MLE, beta_LP3_MLE, 500))"
   ]
  },
  {
   "cell_type": "code",
   "execution_count": 12,
   "metadata": {},
   "outputs": [
    {
     "data": {
      "text/plain": [
       "(3833.7762616958394, 6837.250134549028, 5074.563375282942, 10277.3123640636)"
      ]
     },
     "execution_count": 12,
     "metadata": {},
     "output_type": "execute_result"
    }
   ],
   "source": [
    "# estimate 95% confidence intervals on 100-yr and 500-yr floods using bootstrapping\n",
    "samples = bootstrap(maxQ, 10000)\n",
    "q_100_vec = np.zeros(10000)\n",
    "q_500_vec = np.zeros(10000)\n",
    "for i in range(10000):\n",
    "    alpha_LP3_MLE, xi_LP3_MLE, beta_LP3_MLE = HW1_utils.fitGamma(np.log(samples[i,:]), 'MLE',2)\n",
    "    q_100_vec[i] = np.exp(HW1_utils.findGammaReturnPd(alpha_LP3_MLE, xi_LP3_MLE, beta_LP3_MLE, 100))\n",
    "    q_500_vec[i] = np.exp(HW1_utils.findGammaReturnPd(alpha_LP3_MLE, xi_LP3_MLE, beta_LP3_MLE, 500))\n",
    "\n",
    "q_100_vec = np.sort(q_100_vec)\n",
    "q_500_vec = np.sort(q_500_vec)\n",
    "\n",
    "alpha = 0.05 # 95% CI\n",
    "q_100_lower = q_100_vec[int(alpha/2*10000)]\n",
    "q_100_upper = q_100_vec[int(1 - alpha/2*10000)]\n",
    "\n",
    "q_500_lower = q_500_vec[int(alpha/2*10000)]\n",
    "q_500_upper = q_500_vec[int(1 - alpha/2*10000)]\n",
    "q_100_lower, q_100_upper, q_500_lower, q_500_upper"
   ]
  },
  {
   "cell_type": "code",
   "execution_count": 13,
   "metadata": {},
   "outputs": [],
   "source": [
    "# (f) fit a Gumbel with MLE and estimate the 100-yr and 500-yr floods\n",
    "xi_Gumbel, alpha_Gumbel = HW1_utils.fitGumbel(maxQ, 'MLE')\n",
    "q_100 = HW1_utils.findGumbelReturnPd(xi_Gumbel, alpha_Gumbel, 100)\n",
    "q_500 = HW1_utils.findGumbelReturnPd(xi_Gumbel, alpha_Gumbel, 500)"
   ]
  },
  {
   "cell_type": "code",
   "execution_count": 14,
   "metadata": {},
   "outputs": [
    {
     "data": {
      "text/plain": [
       "(3295.172390235951, 4846.405364578315, 4082.5558745948438, 6085.226597264731)"
      ]
     },
     "execution_count": 14,
     "metadata": {},
     "output_type": "execute_result"
    }
   ],
   "source": [
    "# estimate 95% confidence intervals on 100-yr and 500-yr floods using bootstrapping\n",
    "samples = bootstrap(maxQ, 10000)\n",
    "q_100_vec = np.zeros(10000)\n",
    "q_500_vec = np.zeros(10000)\n",
    "for i in range(10000):\n",
    "    xi_Gumbel, alpha_Gumbel = HW1_utils.fitGumbel(samples[i,:], 'MLE')\n",
    "    q_100_vec[i] = HW1_utils.findGumbelReturnPd(xi_Gumbel, alpha_Gumbel, 100)\n",
    "    q_500_vec[i] = HW1_utils.findGumbelReturnPd(xi_Gumbel, alpha_Gumbel, 500)\n",
    "\n",
    "q_100_vec = np.sort(q_100_vec)\n",
    "q_500_vec = np.sort(q_500_vec)\n",
    "\n",
    "alpha = 0.05 # 95% CI\n",
    "q_100_lower = q_100_vec[int(alpha/2*10000)]\n",
    "q_100_upper = q_100_vec[int(1 - alpha/2*10000)]\n",
    "\n",
    "q_500_lower = q_500_vec[int(alpha/2*10000)]\n",
    "q_500_upper = q_500_vec[int(1 - alpha/2*10000)]\n",
    "q_100_lower, q_100_upper, q_500_lower, q_500_upper"
   ]
  },
  {
   "cell_type": "code",
   "execution_count": 36,
   "metadata": {},
   "outputs": [],
   "source": [
    "# (g) fit a GEV with MLE and estimate the 100-yr and 500-yr floods\n",
    "kappa_GEV, xi_GEV, alpha_GEV = HW1_utils.fitGEV(maxQ, 'MLE')\n",
    "q_100 = HW1_utils.findGEVreturnPd(kappa_GEV, xi_GEV, alpha_GEV, 100)\n",
    "q_500 = HW1_utils.findGEVreturnPd(kappa_GEV, xi_GEV, alpha_GEV, 500)"
   ]
  },
  {
   "cell_type": "code",
   "execution_count": 37,
   "metadata": {},
   "outputs": [
    {
     "name": "stderr",
     "output_type": "stream",
     "text": [
      "C:\\Users\\Choi\\Anaconda3\\envs\\python36\\lib\\site-packages\\scipy\\stats\\_continuous_distns.py:2364: RuntimeWarning: invalid value encountered in subtract\n",
      "  -pex2+logpex2-logex2)\n"
     ]
    },
    {
     "data": {
      "text/plain": [
       "(3102.842158675494,\n",
       " 222512004278461.2,\n",
       " 3345.6644553672677,\n",
       " 1.5782641729894736e+19)"
      ]
     },
     "execution_count": 37,
     "metadata": {},
     "output_type": "execute_result"
    }
   ],
   "source": [
    "# estimate 95% confidence intervals on 100-yr and 500-yr floods using bootstrapping\n",
    "samples = bootstrap(maxQ, 10000)\n",
    "q_100_vec = np.zeros(10000)\n",
    "q_500_vec = np.zeros(10000)\n",
    "for i in range(10000):\n",
    "    kappa_GEV, xi_GEV, alpha_GEV = HW1_utils.fitGEV(samples[i,:], 'MLE')\n",
    "    q_100_vec[i] = HW1_utils.findGEVreturnPd(kappa_GEV, xi_GEV, alpha_GEV, 100)\n",
    "    q_500_vec[i] = HW1_utils.findGEVreturnPd(kappa_GEV, xi_GEV, alpha_GEV, 500)\n",
    "\n",
    "q_100_vec = np.sort(q_100_vec)\n",
    "q_500_vec = np.sort(q_500_vec)\n",
    "\n",
    "alpha = 0.05 # 95% CI\n",
    "q_100_lower = q_100_vec[int(alpha/2*10000)]\n",
    "q_100_upper = q_100_vec[int(1 - alpha/2*10000)]\n",
    "\n",
    "q_500_lower = q_500_vec[int(alpha/2*10000)]\n",
    "q_500_upper = q_500_vec[int(1 - alpha/2*10000)]\n",
    "q_100_lower, q_100_upper, q_500_lower, q_500_upper"
   ]
  },
  {
   "cell_type": "markdown",
   "metadata": {},
   "source": [
    "### Problem 2"
   ]
  },
  {
   "cell_type": "code",
   "execution_count": 5,
   "metadata": {},
   "outputs": [],
   "source": [
    "import scipy.stats as ss\n",
    "import numpy as np\n",
    "import HW1_utils"
   ]
  },
  {
   "cell_type": "code",
   "execution_count": 7,
   "metadata": {},
   "outputs": [],
   "source": [
    "# load data of annual maxima at Azibe Soltane on the Sebou River in Morocco\n",
    "maxQ = np.loadtxt('Table6.2.csv', skiprows=1, delimiter = ',', usecols=[1])"
   ]
  },
  {
   "cell_type": "code",
   "execution_count": 8,
   "metadata": {},
   "outputs": [
    {
     "data": {
      "text/plain": [
       "(35.18264605338997, 10.538635621795176, -10.544433787682864)"
      ]
     },
     "execution_count": 8,
     "metadata": {},
     "output_type": "execute_result"
    }
   ],
   "source": [
    "# parameters of LP3 distribution with MOM\n",
    "alpha_LP3_MOM, xi_LP3_MOM, beta_LP3_MOM = HW1_utils.fitGamma(np.log(maxQ), 'MOM', 3)\n",
    "alpha_LP3_MOM, xi_LP3_MOM, beta_LP3_MOM"
   ]
  },
  {
   "cell_type": "code",
   "execution_count": 9,
   "metadata": {},
   "outputs": [
    {
     "data": {
      "text/plain": [
       "-0.3371830587626418"
      ]
     },
     "execution_count": 9,
     "metadata": {},
     "output_type": "execute_result"
    }
   ],
   "source": [
    "# calculate skew\n",
    "skew = ss.skew(np.log(maxQ), bias=False)\n",
    "skew"
   ]
  },
  {
   "cell_type": "code",
   "execution_count": 10,
   "metadata": {},
   "outputs": [],
   "source": [
    "# set number of data\n",
    "n = 40"
   ]
  },
  {
   "cell_type": "code",
   "execution_count": 11,
   "metadata": {},
   "outputs": [
    {
     "data": {
      "text/plain": [
       "0.12932501418037437"
      ]
     },
     "execution_count": 11,
     "metadata": {},
     "output_type": "execute_result"
    }
   ],
   "source": [
    "varG = ((6.0*(n-2))/((n+1.0)*(n+3.0)))\n",
    "varG"
   ]
  },
  {
   "cell_type": "code",
   "execution_count": 12,
   "metadata": {},
   "outputs": [
    {
     "data": {
      "text/plain": [
       "(2.3263478740408408, 2.878161739095483)"
      ]
     },
     "execution_count": 12,
     "metadata": {},
     "output_type": "execute_result"
    }
   ],
   "source": [
    "# calculate z value for 100 year and 500 year\n",
    "z100 = ss.norm.ppf(0.99)\n",
    "z500 = ss.norm.ppf(0.998)\n",
    "z100, z500"
   ]
  },
  {
   "cell_type": "code",
   "execution_count": 13,
   "metadata": {},
   "outputs": [
    {
     "data": {
      "text/plain": [
       "(2.07777801637237, 2.477073154737453)"
      ]
     },
     "execution_count": 13,
     "metadata": {},
     "output_type": "execute_result"
    }
   ],
   "source": [
    "# calculate the standard P3 quantile (frequency factor) with cumulative probability for skew coefficient\n",
    "Kp100 = (2/skew)*(1+(skew*z100/6)-((skew)**2)/36)**3-2/skew\n",
    "Kp500 = (2/skew)*(1+(skew*z500/6)-((skew)**2)/36)**3-2/skew\n",
    "Kp100, Kp500"
   ]
  },
  {
   "cell_type": "code",
   "execution_count": 14,
   "metadata": {},
   "outputs": [
    {
     "data": {
      "text/plain": [
       "(0.7366166703265938, 1.1610831851047072)"
      ]
     },
     "execution_count": 14,
     "metadata": {},
     "output_type": "execute_result"
    }
   ],
   "source": [
    "dKp_100 = (z100**2-1)*(1-3*(skew/6)**2)/6 + (z100**3-6*z100)*skew/54 + 2*z100/3*(skew/6)**3\n",
    "dKp_500 = (z500**2-1)*(1-3*(skew/6)**2)/6 + (z500**3-6*z500)*skew/54 + 2*z500/3*(skew/6)**3\n",
    "dKp_100, dKp_500"
   ]
  },
  {
   "cell_type": "code",
   "execution_count": 17,
   "metadata": {},
   "outputs": [
    {
     "data": {
      "text/plain": [
       "(1.2125689697465816, 1.4268296454904834)"
      ]
     },
     "execution_count": 17,
     "metadata": {},
     "output_type": "execute_result"
    }
   ],
   "source": [
    "eta100 = np.sqrt((1+skew*Kp100+0.5*(1+0.75*(skew)**2)*Kp100**2+n*varG*(dKp_100)**2)/(1+0.5*z100**2))\n",
    "eta500 = np.sqrt((1+skew*Kp500+0.5*(1+0.75*(skew)**2)*Kp500**2+n*varG*(dKp_500)**2)/(1+0.5*z500**2))\n",
    "eta100, eta500"
   ]
  },
  {
   "cell_type": "code",
   "execution_count": 18,
   "metadata": {},
   "outputs": [
    {
     "data": {
      "text/plain": [
       "7.202027249851352"
      ]
     },
     "execution_count": 18,
     "metadata": {},
     "output_type": "execute_result"
    }
   ],
   "source": [
    "mean = np.mean(np.log(maxQ))\n",
    "mean"
   ]
  },
  {
   "cell_type": "code",
   "execution_count": 19,
   "metadata": {},
   "outputs": [
    {
     "data": {
      "text/plain": [
       "(8.370827060351658, 8.595440122178934)"
      ]
     },
     "execution_count": 19,
     "metadata": {},
     "output_type": "execute_result"
    }
   ],
   "source": [
    "mean100 = mean + Kp100*np.std(np.log(maxQ), ddof = 1)\n",
    "mean500 = mean + Kp500*np.std(np.log(maxQ), ddof = 1)\n",
    "mean100, mean500"
   ]
  },
  {
   "cell_type": "code",
   "execution_count": 20,
   "metadata": {},
   "outputs": [],
   "source": [
    "zeta_lower_100 = 1.896\n",
    "zeta_upper_100 = 2.941\n",
    "zeta_lower_500 = 2.375\n",
    "zeta_upper_500 = 3.609"
   ]
  },
  {
   "cell_type": "code",
   "execution_count": 21,
   "metadata": {},
   "outputs": [
    {
     "data": {
      "text/plain": [
       "(3220.4848131966173, 6568.7621412869275)"
      ]
     },
     "execution_count": 21,
     "metadata": {},
     "output_type": "execute_result"
    }
   ],
   "source": [
    "# estimate 90% confidence intervals on 100-yr floods\n",
    "lower_value_100 = np.exp(mean100 + eta100*(zeta_lower_100 - z100)*np.std(np.log(maxQ), ddof = 1))\n",
    "upper_value_100 = np.exp(mean100 + eta100*(zeta_upper_100 - z100)*np.std(np.log(maxQ), ddof = 1))\n",
    "lower_value_100, upper_value_100"
   ]
  },
  {
   "cell_type": "code",
   "execution_count": 23,
   "metadata": {},
   "outputs": [
    {
     "data": {
      "text/plain": [
       "(3610.4566329952327, 9720.863760892811)"
      ]
     },
     "execution_count": 23,
     "metadata": {},
     "output_type": "execute_result"
    }
   ],
   "source": [
    "# estimate 90% confidence intervals on 500-yr floods\n",
    "lower_value_500 = np.exp(mean500 + eta500*(zeta_lower_500 - z500)*np.std(np.log(maxQ), ddof = 1))\n",
    "upper_value_500 = np.exp(mean500 + eta500*(zeta_upper_500 - z500)*np.std(np.log(maxQ), ddof = 1))\n",
    "lower_value_500, upper_value_500"
   ]
  },
  {
   "cell_type": "code",
   "execution_count": 24,
   "metadata": {},
   "outputs": [],
   "source": [
    "# fit a Log-Pearson Type 3 with MOM and estimate the 100-yr and 500-yr floods\n",
    "alpha_LP3_MOM, xi_LP3_MOM, beta_LP3_MOM = HW1_utils.fitGamma(np.log(maxQ), 'MOM', 3)\n",
    "q_100 = np.exp(-HW1_utils.findGammaReturnPd(alpha_LP3_MOM, xi_LP3_MOM, beta_LP3_MOM, 100/99))\n",
    "q_500 = np.exp(-HW1_utils.findGammaReturnPd(alpha_LP3_MOM, xi_LP3_MOM, beta_LP3_MOM, 500/499))"
   ]
  },
  {
   "cell_type": "code",
   "execution_count": 27,
   "metadata": {},
   "outputs": [
    {
     "data": {
      "text/plain": [
       "(4027.70743363473, 6598.395106937164, 5406.129869218975, 9855.248174485616)"
      ]
     },
     "execution_count": 27,
     "metadata": {},
     "output_type": "execute_result"
    }
   ],
   "source": [
    "# estimate 90% confidence intervals on 100-yr and 500-yr floods using bootstrapping\n",
    "samples = bootstrap(maxQ, 10000)\n",
    "q_100_vec = np.zeros(10000)\n",
    "q_500_vec = np.zeros(10000)\n",
    "for i in range(10000):\n",
    "    alpha_LP3_MOM, xi_LP3_MOM, beta_LP3_MOM = HW1_utils.fitGamma(np.log(samples[i,:]), 'MLE',2)\n",
    "    q_100_vec[i] = np.exp(HW1_utils.findGammaReturnPd(alpha_LP3_MOM, xi_LP3_MOM, beta_LP3_MOM, 100))\n",
    "    q_500_vec[i] = np.exp(HW1_utils.findGammaReturnPd(alpha_LP3_MOM, xi_LP3_MOM, beta_LP3_MOM, 500))\n",
    "\n",
    "q_100_vec = np.sort(q_100_vec)\n",
    "q_500_vec = np.sort(q_500_vec)\n",
    "\n",
    "alpha = 0.10 # 95% CI\n",
    "q_100_lower = q_100_vec[int(alpha/2*10000)]\n",
    "q_100_upper = q_100_vec[int(1 - alpha/2*10000)]\n",
    "\n",
    "q_500_lower = q_500_vec[int(alpha/2*10000)]\n",
    "q_500_upper = q_500_vec[int(1 - alpha/2*10000)]\n",
    "q_100_lower, q_100_upper, q_500_lower, q_500_upper"
   ]
  },
  {
   "cell_type": "markdown",
   "metadata": {},
   "source": [
    "### Problem 3"
   ]
  },
  {
   "cell_type": "code",
   "execution_count": 613,
   "metadata": {
    "scrolled": true
   },
   "outputs": [
    {
     "data": {
      "text/plain": [
       "(172283.5435626202,\n",
       " 238840.20286764894,\n",
       " -0.12468421999210845,\n",
       " 41913.41260899518,\n",
       " 20985.585166531793)"
      ]
     },
     "execution_count": 613,
     "metadata": {},
     "output_type": "execute_result"
    }
   ],
   "source": [
    "import numpy as np\n",
    "from matplotlib import pyplot as plt\n",
    "import utils_inClass\n",
    "import pandas as pd\n",
    "\n",
    "# load data of daily flows on the Potomac at Alexandria\n",
    "allQ = pd.read_csv('James_river_daily_streamflow.csv')\n",
    "\n",
    "# convert first column to date\n",
    "allQ['Date'] = pd.to_datetime(allQ['Date'],format=\"%Y-%m-%d\")\n",
    "allQ['Flow'] = pd.to_numeric(allQ['Flow'],errors='ignore')\n",
    "\n",
    "# find year of each data point\n",
    "allQ['Year'] = allQ['Date'].dt.year\n",
    "maxQ = allQ.groupby('Year').max()\n",
    "\n",
    "# fit GEV to maxQ\n",
    "kappa, xi, alpha = utils_inClass.fitGEV(maxQ['Flow'], 'MOM',)\n",
    "\n",
    "# (a) estimate 100-yr and 500-yr floods\n",
    "q_100 = utils_inClass.findGEVreturnPd(kappa, xi, alpha, 100)\n",
    "q_500 = utils_inClass.findGEVreturnPd(kappa, xi, alpha, 500)\n",
    "q_100, q_500, kappa, xi, alpha"
   ]
  },
  {
   "cell_type": "code",
   "execution_count": 614,
   "metadata": {},
   "outputs": [
    {
     "data": {
      "text/plain": [
       "[<matplotlib.lines.Line2D at 0x28733af9208>]"
      ]
     },
     "execution_count": 614,
     "metadata": {},
     "output_type": "execute_result"
    },
    {
     "data": {
      "image/png": "[encoded data removed]",
      "text/plain": [
       "<Figure size 432x288 with 1 Axes>"
      ]
     },
     "metadata": {
      "needs_background": "light"
     },
     "output_type": "display_data"
    }
   ],
   "source": [
    "# (b) plot the mean residual life plot\n",
    "thresholds = np.arange(0, np.max(allQ['Flow']),400)\n",
    "y = np.zeros(len(thresholds))\n",
    "for i in range(len(thresholds)):\n",
    "    flood_indices = np.where(allQ['Flow']>thresholds[i])[0]\n",
    "    y[i]=np.mean(allQ['Flow'][flood_indices]-thresholds[i])\n",
    "plt.plot(thresholds, y)\n",
    "plt.plot([42000, 42000], [0, 100000])"
   ]
  },
  {
   "cell_type": "code",
   "execution_count": 615,
   "metadata": {},
   "outputs": [
    {
     "data": {
      "text/plain": [
       "array([    0,     1,  1416,  1417,  2939,  3120,  3712,  3713,  3714,\n",
       "        3766,  3767,  3768,  3835,  3992,  3993,  4112,  4128,  4155,\n",
       "        4186,  4187,  4188,  4478,  4495,  4496,  4590,  4591,  4767,\n",
       "        4768,  4776,  5435,  5722,  5797,  5798,  5799,  5800,  6437,\n",
       "        6438,  6443,  6444,  6589,  6665,  7293,  8537,  8583,  8826,\n",
       "        8830,  8831,  8939,  8962,  9476,  9565, 10024, 10025, 10371,\n",
       "       10372, 10402, 10403, 10744, 10745, 11114, 11115, 11278, 11875,\n",
       "       11876, 12235, 12965, 12966, 12970, 12971, 13535, 13687, 14042,\n",
       "       14043, 14740, 14741, 15498, 15499, 16394, 16395, 16396, 16528,\n",
       "       16529, 16938, 17043, 17044, 17316, 17430, 17431, 17432, 17537,\n",
       "       17657, 17658, 17701, 17772, 17773, 17985, 18427, 18431, 18432,\n",
       "       18433, 19002, 19180, 19181, 19475, 19476, 19477, 19524, 19535,\n",
       "       19536, 19566, 19567, 19870, 19871, 19872, 19879, 19880, 19969,\n",
       "       20080, 20286, 21075, 21076, 21376, 21686, 21687, 22314, 22315,\n",
       "       22316, 22317, 22318, 22797, 22798, 22842, 22843, 22844, 22845,\n",
       "       22851, 22852, 22987, 22988, 23589, 23590, 23593, 23594, 24210,\n",
       "       24261, 24675, 24676, 24992, 24993, 25012, 25381, 25382, 25674,\n",
       "       25675, 25833, 25838, 25839, 26042, 26043, 26044, 26051, 26273,\n",
       "       26274, 26275, 26360, 26361, 26763, 26790, 26803, 26804, 26834,\n",
       "       26835, 27392, 28634, 28635, 28719, 28842, 28905, 29219, 29645,\n",
       "       29854, 29855, 29856, 31162, 31163, 31164, 31572, 31609, 31610,\n",
       "       31845, 32265, 32361, 32362, 33820, 33840, 34102, 34166, 34331,\n",
       "       34415, 34416], dtype=int64)"
      ]
     },
     "execution_count": 615,
     "metadata": {},
     "output_type": "execute_result"
    }
   ],
   "source": [
    "x0 = 42000\n",
    "# find all peaks over the threshold\n",
    "peak_indices = np.where(allQ['Flow']>x0)[0]\n",
    "peak_indices"
   ]
  },
  {
   "cell_type": "code",
   "execution_count": 616,
   "metadata": {},
   "outputs": [
    {
     "data": {
      "text/plain": [
       "array([ 68000.,  67700.,  56200.,  43000.,  75200.,  82700.,  47200.,\n",
       "        84400.,  43800.,  47600.,  46300.,  99400.,  43700.,  53400.,\n",
       "        53600.,  77200.,  46600.,  49000.,  49900., 107000.,  75400.,\n",
       "        71800.,  45100., 105000.,  55100.,  47300.,  81600.,  54900.,\n",
       "        60900.,  55100.,  59600.,  48600.,  50900.,  56400.,  44800.,\n",
       "        65600.,  51800.,  55800.,  42900.,  55000.,  58300.,  49700.,\n",
       "        65200.,  45100.,  58400., 135000.,  56200.,  49300.,  56800.,\n",
       "        43600., 208000.,  67500.,  53000.,  43800.,  53700.,  73400.,\n",
       "        87600.,  53300.,  54900.,  85100.,  51400.,  51400.,  43600.,\n",
       "        86700.,  55100.,  54600.,  51400.,  54000.,  64100.,  48200.,\n",
       "        60900., 199000.,  49100., 124000.,  71200.,  67800.,  63600.,\n",
       "        44100.,  43600., 102000.,  69400.,  52900.,  55200.,  68600.,\n",
       "        74100., 121000.,  42700., 114000.,  57400.,  68100.,  54100.,\n",
       "        50900.,  60000.,  51300.,  83600.,  44100.,  46000.,  45900.,\n",
       "        57800.,  43700.,  67200.,  83100.,  47600.,  46500.,  43100.,\n",
       "        50800.,  54700.,  46500.,  52900.,  43700.,  44900.,  48700.,\n",
       "        50700.])"
      ]
     },
     "execution_count": 616,
     "metadata": {},
     "output_type": "execute_result"
    }
   ],
   "source": [
    "# find only independent peaks\n",
    "# (c) if more than 1 peak over the threshold within 5 days of each other, pick only the largest\n",
    "allClusters = []\n",
    "subCluster = [peak_indices[0]]\n",
    "for i in range(1,len(peak_indices)):\n",
    "    if peak_indices[i] - peak_indices[i-1] <= 5:\n",
    "        subCluster.append(peak_indices[i])\n",
    "    else:\n",
    "        allClusters.append(subCluster)\n",
    "        subCluster = [peak_indices[i]]\n",
    "        \n",
    "allClusters.append(subCluster)\n",
    "        \n",
    "peaks = np.zeros(len(allClusters))\n",
    "for i in range(len(allClusters)):\n",
    "    peaks[i] = np.max(allQ['Flow'][allClusters[i]])\n",
    "peaks"
   ]
  },
  {
   "cell_type": "code",
   "execution_count": 617,
   "metadata": {},
   "outputs": [
    {
     "data": {
      "text/plain": [
       "1.1770833333333333"
      ]
     },
     "execution_count": 617,
     "metadata": {},
     "output_type": "execute_result"
    }
   ],
   "source": [
    "# (d) Estimate the Poisson arrival rate of floods over the threshold.\n",
    "llambda = len(peaks)/len(maxQ)\n",
    "llambda"
   ]
  },
  {
   "cell_type": "code",
   "execution_count": 618,
   "metadata": {},
   "outputs": [
    {
     "data": {
      "text/plain": [
       "(-0.18123791037792908, 42000, 17421.5183034275)"
      ]
     },
     "execution_count": 618,
     "metadata": {},
     "output_type": "execute_result"
    }
   ],
   "source": [
    "# (e) fit a GPD to the peaks over the threshold\n",
    "kappa, x0, alpha = utils_inClass.fitGPD(peaks, x0, 'MOM')\n",
    "kappa, x0, alpha"
   ]
  },
  {
   "cell_type": "code",
   "execution_count": 619,
   "metadata": {},
   "outputs": [
    {
     "data": {
      "text/plain": [
       "(173778.11959855363, 251188.9331079195)"
      ]
     },
     "execution_count": 619,
     "metadata": {},
     "output_type": "execute_result"
    }
   ],
   "source": [
    "# (f) estimate 100-yr, 500 flood \n",
    "# find equivalent parameters of GEV\n",
    "if kappa == 0:\n",
    "    xi = x0 + alpha*np.log(llambda)\n",
    "else:\n",
    "    xi = x0 + alpha*(1-llambda**(-kappa))/kappa\n",
    "    \n",
    "alpha_star = alpha*llambda**(-kappa)\n",
    "\n",
    "q_100_POT = utils_inClass.findGEVreturnPd(kappa, xi, alpha_star, 100)\n",
    "q_500_POT = utils_inClass.findGEVreturnPd(kappa, xi, alpha_star, 500)\n",
    "q_100_POT, q_500_POT"
   ]
  }
 ],
 "metadata": {
  "kernelspec": {
   "display_name": "Python 3",
   "language": "python",
   "name": "python3"
  },
  "language_info": {
   "codemirror_mode": {
    "name": "ipython",
    "version": 3
   },
   "file_extension": ".py",
   "mimetype": "text/x-python",
   "name": "python",
   "nbconvert_exporter": "python",
   "pygments_lexer": "ipython3",
   "version": "3.6.8"
  }
 },
 "nbformat": 4,
 "nbformat_minor": 2
}
