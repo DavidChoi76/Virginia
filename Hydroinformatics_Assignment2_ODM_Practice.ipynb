{
 "cells": [
  {
   "cell_type": "markdown",
   "metadata": {},
   "source": [
    "## (1) Import GAMUT Data into odm.sqlite"
   ]
  },
  {
   "cell_type": "code",
   "execution_count": 1,
   "metadata": {
    "collapsed": true
   },
   "outputs": [],
   "source": [
    "# subprocess allow users to use terminal commands in python \n",
    "import subprocess"
   ]
  },
  {
   "cell_type": "code",
   "execution_count": 6,
   "metadata": {},
   "outputs": [
    {
     "data": {
      "text/plain": [
       "CompletedProcess(args='sqlite3 -init GAMUT_input.txt odm.sqlite', returncode=0)"
      ]
     },
     "execution_count": 6,
     "metadata": {},
     "output_type": "execute_result"
    }
   ],
   "source": [
    "# call sqlite3, import GAMUT data using GAMUT_input.txt which include tables as sites, methods, variables, datavalue, \n",
    "# methods into odm.sqlite\n",
    "cmd = \"sqlite3 -init GAMUT_input.txt odm.sqlite\"\n",
    "# run command above using subprocess\n",
    "subprocess.run(cmd, shell=True)"
   ]
  },
  {
   "cell_type": "markdown",
   "metadata": {},
   "source": [
    "## (2) connect to odm.sqlite and check data that loaded correctly"
   ]
  },
  {
   "cell_type": "code",
   "execution_count": 2,
   "metadata": {
    "collapsed": true
   },
   "outputs": [],
   "source": [
    "import sqlite3 as lite\n",
    "import pandas as pd"
   ]
  },
  {
   "cell_type": "code",
   "execution_count": 3,
   "metadata": {
    "collapsed": true
   },
   "outputs": [],
   "source": [
    "# connect to 'odm.sqlite'\n",
    "conn = lite.connect('odm.sqlite')"
   ]
  },
  {
   "cell_type": "code",
   "execution_count": 4,
   "metadata": {},
   "outputs": [
    {
     "data": {
      "text/html": [
       "<div>\n",
       "<style scoped>\n",
       "    .dataframe tbody tr th:only-of-type {\n",
       "        vertical-align: middle;\n",
       "    }\n",
       "\n",
       "    .dataframe tbody tr th {\n",
       "        vertical-align: top;\n",
       "    }\n",
       "\n",
       "    .dataframe thead th {\n",
       "        text-align: right;\n",
       "    }\n",
       "</style>\n",
       "<table border=\"1\" class=\"dataframe\">\n",
       "  <thead>\n",
       "    <tr style=\"text-align: right;\">\n",
       "      <th></th>\n",
       "      <th>SiteID</th>\n",
       "      <th>SiteCode</th>\n",
       "      <th>SiteName</th>\n",
       "      <th>Latitude</th>\n",
       "      <th>Longitude</th>\n",
       "      <th>LatLongDatumID</th>\n",
       "      <th>Elevation_m</th>\n",
       "      <th>VerticalDatum</th>\n",
       "      <th>LocalX</th>\n",
       "      <th>LocalY</th>\n",
       "      <th>LocalProjectionID</th>\n",
       "      <th>PosAccuracy_m</th>\n",
       "      <th>State</th>\n",
       "      <th>County</th>\n",
       "      <th>Comments</th>\n",
       "      <th>SiteType</th>\n",
       "    </tr>\n",
       "  </thead>\n",
       "  <tbody>\n",
       "    <tr>\n",
       "      <th>0</th>\n",
       "      <td>1</td>\n",
       "      <td>LR_WaterLab_AA</td>\n",
       "      <td>Logan River at the Utah Water Research Laborat...</td>\n",
       "      <td>41.739034</td>\n",
       "      <td>-111.795742</td>\n",
       "      <td>3</td>\n",
       "      <td>1414.000000</td>\n",
       "      <td>NGVD29</td>\n",
       "      <td></td>\n",
       "      <td></td>\n",
       "      <td></td>\n",
       "      <td></td>\n",
       "      <td>Utah</td>\n",
       "      <td>Cache</td>\n",
       "      <td></td>\n",
       "      <td>Stream</td>\n",
       "    </tr>\n",
       "    <tr>\n",
       "      <th>1</th>\n",
       "      <td>2</td>\n",
       "      <td>LR_Mendon_AA</td>\n",
       "      <td>Logan River at Mendon Road (600 South)</td>\n",
       "      <td>41.720533</td>\n",
       "      <td>-111.886928</td>\n",
       "      <td>3</td>\n",
       "      <td>1353.469604</td>\n",
       "      <td>NGVD29</td>\n",
       "      <td></td>\n",
       "      <td></td>\n",
       "      <td></td>\n",
       "      <td></td>\n",
       "      <td>Utah</td>\n",
       "      <td>Cache</td>\n",
       "      <td></td>\n",
       "      <td>Stream</td>\n",
       "    </tr>\n",
       "    <tr>\n",
       "      <th>2</th>\n",
       "      <td>3</td>\n",
       "      <td>LR_MainStreet_BA</td>\n",
       "      <td>Logan River at Main Street (Highway 89/91) Bridge</td>\n",
       "      <td>41.721091</td>\n",
       "      <td>-111.835096</td>\n",
       "      <td>3</td>\n",
       "      <td>1377.000000</td>\n",
       "      <td>NGVD29</td>\n",
       "      <td></td>\n",
       "      <td></td>\n",
       "      <td></td>\n",
       "      <td></td>\n",
       "      <td>Utah</td>\n",
       "      <td>Cache</td>\n",
       "      <td></td>\n",
       "      <td>Stream</td>\n",
       "    </tr>\n",
       "    <tr>\n",
       "      <th>3</th>\n",
       "      <td>4</td>\n",
       "      <td>LR_TWDEF_C</td>\n",
       "      <td>Climate Station at TW Daniels Experimental Forest</td>\n",
       "      <td>41.864805</td>\n",
       "      <td>-111.507494</td>\n",
       "      <td>3</td>\n",
       "      <td>2629.200000</td>\n",
       "      <td>NGVD29</td>\n",
       "      <td></td>\n",
       "      <td></td>\n",
       "      <td></td>\n",
       "      <td></td>\n",
       "      <td>Utah</td>\n",
       "      <td>Cache</td>\n",
       "      <td></td>\n",
       "      <td>Atmosphere</td>\n",
       "    </tr>\n",
       "    <tr>\n",
       "      <th>4</th>\n",
       "      <td>5</td>\n",
       "      <td>LR_GC_C</td>\n",
       "      <td>Climate Station at Logan River Golf Course</td>\n",
       "      <td>41.705643</td>\n",
       "      <td>-111.854268</td>\n",
       "      <td>3</td>\n",
       "      <td>1364.890000</td>\n",
       "      <td>NGVD29</td>\n",
       "      <td></td>\n",
       "      <td></td>\n",
       "      <td></td>\n",
       "      <td></td>\n",
       "      <td>Utah</td>\n",
       "      <td>Cache</td>\n",
       "      <td></td>\n",
       "      <td>Atmosphere</td>\n",
       "    </tr>\n",
       "  </tbody>\n",
       "</table>\n",
       "</div>"
      ],
      "text/plain": [
       "   SiteID          SiteCode  \\\n",
       "0       1    LR_WaterLab_AA   \n",
       "1       2      LR_Mendon_AA   \n",
       "2       3  LR_MainStreet_BA   \n",
       "3       4        LR_TWDEF_C   \n",
       "4       5           LR_GC_C   \n",
       "\n",
       "                                            SiteName   Latitude   Longitude  \\\n",
       "0  Logan River at the Utah Water Research Laborat...  41.739034 -111.795742   \n",
       "1             Logan River at Mendon Road (600 South)  41.720533 -111.886928   \n",
       "2  Logan River at Main Street (Highway 89/91) Bridge  41.721091 -111.835096   \n",
       "3  Climate Station at TW Daniels Experimental Forest  41.864805 -111.507494   \n",
       "4         Climate Station at Logan River Golf Course  41.705643 -111.854268   \n",
       "\n",
       "   LatLongDatumID  Elevation_m VerticalDatum LocalX LocalY LocalProjectionID  \\\n",
       "0               3  1414.000000        NGVD29                                   \n",
       "1               3  1353.469604        NGVD29                                   \n",
       "2               3  1377.000000        NGVD29                                   \n",
       "3               3  2629.200000        NGVD29                                   \n",
       "4               3  1364.890000        NGVD29                                   \n",
       "\n",
       "  PosAccuracy_m State County Comments    SiteType  \n",
       "0                Utah  Cache               Stream  \n",
       "1                Utah  Cache               Stream  \n",
       "2                Utah  Cache               Stream  \n",
       "3                Utah  Cache           Atmosphere  \n",
       "4                Utah  Cache           Atmosphere  "
      ]
     },
     "execution_count": 4,
     "metadata": {},
     "output_type": "execute_result"
    }
   ],
   "source": [
    "# read sites table from odm.sqlite using read_sql_query attribute and create pandas DataFrame\n",
    "df = pd.read_sql_query(\"SELECT * FROM sites\", conn)\n",
    "df.head()"
   ]
  },
  {
   "cell_type": "code",
   "execution_count": 5,
   "metadata": {},
   "outputs": [
    {
     "data": {
      "text/html": [
       "<div>\n",
       "<style scoped>\n",
       "    .dataframe tbody tr th:only-of-type {\n",
       "        vertical-align: middle;\n",
       "    }\n",
       "\n",
       "    .dataframe tbody tr th {\n",
       "        vertical-align: top;\n",
       "    }\n",
       "\n",
       "    .dataframe thead th {\n",
       "        text-align: right;\n",
       "    }\n",
       "</style>\n",
       "<table border=\"1\" class=\"dataframe\">\n",
       "  <thead>\n",
       "    <tr style=\"text-align: right;\">\n",
       "      <th></th>\n",
       "      <th>SourceID</th>\n",
       "      <th>Organization</th>\n",
       "      <th>SourceDescription</th>\n",
       "      <th>SourceLink</th>\n",
       "      <th>ContactName</th>\n",
       "      <th>Phone</th>\n",
       "      <th>Email</th>\n",
       "      <th>Address</th>\n",
       "      <th>City</th>\n",
       "      <th>State</th>\n",
       "      <th>ZipCode</th>\n",
       "      <th>Citation</th>\n",
       "      <th>MetadataID</th>\n",
       "    </tr>\n",
       "  </thead>\n",
       "  <tbody>\n",
       "    <tr>\n",
       "      <th>0</th>\n",
       "      <td>1</td>\n",
       "      <td>Utah State University</td>\n",
       "      <td>Continuous monitoring data collected by Utah S...</td>\n",
       "      <td>http://data.iutahepscor.org</td>\n",
       "      <td>Chris Cox</td>\n",
       "      <td>(505) 250-5885</td>\n",
       "      <td>chris.cox@usu.edu</td>\n",
       "      <td></td>\n",
       "      <td></td>\n",
       "      <td></td>\n",
       "      <td></td>\n",
       "      <td>iUTAH GAMUT Working Group. (2014), GAMUT Ecohy...</td>\n",
       "      <td>0</td>\n",
       "    </tr>\n",
       "    <tr>\n",
       "      <th>1</th>\n",
       "      <td>2</td>\n",
       "      <td>USGS</td>\n",
       "      <td>Additional info: https://help.waterdata.usgs.g...</td>\n",
       "      <td>https://waterdata.usgs.gov/nwis/dv?cb_00010=on...</td>\n",
       "      <td></td>\n",
       "      <td></td>\n",
       "      <td>gs-w_support_nwisweb@usgs.gov</td>\n",
       "      <td></td>\n",
       "      <td></td>\n",
       "      <td></td>\n",
       "      <td></td>\n",
       "      <td>National Water Information System: Mapper, htt...</td>\n",
       "      <td></td>\n",
       "    </tr>\n",
       "  </tbody>\n",
       "</table>\n",
       "</div>"
      ],
      "text/plain": [
       "   SourceID           Organization  \\\n",
       "0         1  Utah State University   \n",
       "1         2                   USGS   \n",
       "\n",
       "                                   SourceDescription  \\\n",
       "0  Continuous monitoring data collected by Utah S...   \n",
       "1  Additional info: https://help.waterdata.usgs.g...   \n",
       "\n",
       "                                          SourceLink ContactName  \\\n",
       "0                        http://data.iutahepscor.org   Chris Cox   \n",
       "1  https://waterdata.usgs.gov/nwis/dv?cb_00010=on...               \n",
       "\n",
       "            Phone                          Email Address City State ZipCode  \\\n",
       "0  (505) 250-5885              chris.cox@usu.edu                              \n",
       "1                  gs-w_support_nwisweb@usgs.gov                              \n",
       "\n",
       "                                            Citation MetadataID  \n",
       "0  iUTAH GAMUT Working Group. (2014), GAMUT Ecohy...          0  \n",
       "1  National Water Information System: Mapper, htt...             "
      ]
     },
     "execution_count": 5,
     "metadata": {},
     "output_type": "execute_result"
    }
   ],
   "source": [
    "# read sources table from odm.sqlite using read_sql_query attribute and create pandas DataFrame\n",
    "df = pd.read_sql_query(\"SELECT * FROM sources\", conn)\n",
    "df.head()"
   ]
  },
  {
   "cell_type": "code",
   "execution_count": 6,
   "metadata": {},
   "outputs": [
    {
     "data": {
      "text/html": [
       "<div>\n",
       "<style scoped>\n",
       "    .dataframe tbody tr th:only-of-type {\n",
       "        vertical-align: middle;\n",
       "    }\n",
       "\n",
       "    .dataframe tbody tr th {\n",
       "        vertical-align: top;\n",
       "    }\n",
       "\n",
       "    .dataframe thead th {\n",
       "        text-align: right;\n",
       "    }\n",
       "</style>\n",
       "<table border=\"1\" class=\"dataframe\">\n",
       "  <thead>\n",
       "    <tr style=\"text-align: right;\">\n",
       "      <th></th>\n",
       "      <th>VariableID</th>\n",
       "      <th>VariableCode</th>\n",
       "      <th>VariableName</th>\n",
       "      <th>Speciation</th>\n",
       "      <th>VariableUnitsID</th>\n",
       "      <th>SampleMedium</th>\n",
       "      <th>ValueType</th>\n",
       "      <th>IsRegular</th>\n",
       "      <th>TimeSupport</th>\n",
       "      <th>TimeUnitsID</th>\n",
       "      <th>DataType</th>\n",
       "      <th>GeneralCategory</th>\n",
       "      <th>NoDataValue</th>\n",
       "    </tr>\n",
       "  </thead>\n",
       "  <tbody>\n",
       "    <tr>\n",
       "      <th>0</th>\n",
       "      <td>1</td>\n",
       "      <td>WaterTemp_EXO</td>\n",
       "      <td>Temperature</td>\n",
       "      <td>Not Applicable</td>\n",
       "      <td>96</td>\n",
       "      <td>Surface Water</td>\n",
       "      <td>Field Observation</td>\n",
       "      <td>1</td>\n",
       "      <td>0.0</td>\n",
       "      <td>102</td>\n",
       "      <td>Continuous</td>\n",
       "      <td>Water Quality</td>\n",
       "      <td>-9999.0</td>\n",
       "    </tr>\n",
       "    <tr>\n",
       "      <th>1</th>\n",
       "      <td>2</td>\n",
       "      <td>SpCond</td>\n",
       "      <td>Specific conductance</td>\n",
       "      <td>Not Applicable</td>\n",
       "      <td>192</td>\n",
       "      <td>Surface Water</td>\n",
       "      <td>Field Observation</td>\n",
       "      <td>1</td>\n",
       "      <td>0.0</td>\n",
       "      <td>102</td>\n",
       "      <td>Continuous</td>\n",
       "      <td>Water Quality</td>\n",
       "      <td>-9999.0</td>\n",
       "    </tr>\n",
       "    <tr>\n",
       "      <th>2</th>\n",
       "      <td>3</td>\n",
       "      <td>pH</td>\n",
       "      <td>pH</td>\n",
       "      <td>Not Applicable</td>\n",
       "      <td>309</td>\n",
       "      <td>Surface Water</td>\n",
       "      <td>Field Observation</td>\n",
       "      <td>1</td>\n",
       "      <td>0.0</td>\n",
       "      <td>102</td>\n",
       "      <td>Continuous</td>\n",
       "      <td>Water Quality</td>\n",
       "      <td>-9999.0</td>\n",
       "    </tr>\n",
       "    <tr>\n",
       "      <th>3</th>\n",
       "      <td>4</td>\n",
       "      <td>ODO</td>\n",
       "      <td>Oxygen, dissolved</td>\n",
       "      <td>Not Applicable</td>\n",
       "      <td>199</td>\n",
       "      <td>Surface Water</td>\n",
       "      <td>Field Observation</td>\n",
       "      <td>1</td>\n",
       "      <td>0.0</td>\n",
       "      <td>102</td>\n",
       "      <td>Continuous</td>\n",
       "      <td>Water Quality</td>\n",
       "      <td>-9999.0</td>\n",
       "    </tr>\n",
       "    <tr>\n",
       "      <th>4</th>\n",
       "      <td>5</td>\n",
       "      <td>ODO_Sat</td>\n",
       "      <td>Oxygen, dissolved percent of saturation</td>\n",
       "      <td>Not Applicable</td>\n",
       "      <td>308</td>\n",
       "      <td>Surface Water</td>\n",
       "      <td>Field Observation</td>\n",
       "      <td>1</td>\n",
       "      <td>0.0</td>\n",
       "      <td>102</td>\n",
       "      <td>Continuous</td>\n",
       "      <td>Water Quality</td>\n",
       "      <td>-9999.0</td>\n",
       "    </tr>\n",
       "  </tbody>\n",
       "</table>\n",
       "</div>"
      ],
      "text/plain": [
       "   VariableID   VariableCode                             VariableName  \\\n",
       "0           1  WaterTemp_EXO                              Temperature   \n",
       "1           2         SpCond                     Specific conductance   \n",
       "2           3             pH                                       pH   \n",
       "3           4            ODO                        Oxygen, dissolved   \n",
       "4           5        ODO_Sat  Oxygen, dissolved percent of saturation   \n",
       "\n",
       "       Speciation  VariableUnitsID   SampleMedium          ValueType  \\\n",
       "0  Not Applicable               96  Surface Water  Field Observation   \n",
       "1  Not Applicable              192  Surface Water  Field Observation   \n",
       "2  Not Applicable              309  Surface Water  Field Observation   \n",
       "3  Not Applicable              199  Surface Water  Field Observation   \n",
       "4  Not Applicable              308  Surface Water  Field Observation   \n",
       "\n",
       "   IsRegular  TimeSupport  TimeUnitsID    DataType GeneralCategory  \\\n",
       "0          1          0.0          102  Continuous   Water Quality   \n",
       "1          1          0.0          102  Continuous   Water Quality   \n",
       "2          1          0.0          102  Continuous   Water Quality   \n",
       "3          1          0.0          102  Continuous   Water Quality   \n",
       "4          1          0.0          102  Continuous   Water Quality   \n",
       "\n",
       "   NoDataValue  \n",
       "0      -9999.0  \n",
       "1      -9999.0  \n",
       "2      -9999.0  \n",
       "3      -9999.0  \n",
       "4      -9999.0  "
      ]
     },
     "execution_count": 6,
     "metadata": {},
     "output_type": "execute_result"
    }
   ],
   "source": [
    "# read variables table from odm.sqlite using read_sql_query attribute and create pandas DataFrame\n",
    "df = pd.read_sql_query(\"SELECT * FROM variables\", conn)\n",
    "df.head()"
   ]
  },
  {
   "cell_type": "code",
   "execution_count": 7,
   "metadata": {},
   "outputs": [
    {
     "data": {
      "text/html": [
       "<div>\n",
       "<style scoped>\n",
       "    .dataframe tbody tr th:only-of-type {\n",
       "        vertical-align: middle;\n",
       "    }\n",
       "\n",
       "    .dataframe tbody tr th {\n",
       "        vertical-align: top;\n",
       "    }\n",
       "\n",
       "    .dataframe thead th {\n",
       "        text-align: right;\n",
       "    }\n",
       "</style>\n",
       "<table border=\"1\" class=\"dataframe\">\n",
       "  <thead>\n",
       "    <tr style=\"text-align: right;\">\n",
       "      <th></th>\n",
       "      <th>MethodID</th>\n",
       "      <th>MethodDescription</th>\n",
       "      <th>MethodLink</th>\n",
       "    </tr>\n",
       "  </thead>\n",
       "  <tbody>\n",
       "    <tr>\n",
       "      <th>0</th>\n",
       "      <td>0</td>\n",
       "      <td>No method specified</td>\n",
       "      <td>None</td>\n",
       "    </tr>\n",
       "    <tr>\n",
       "      <th>1</th>\n",
       "      <td>1</td>\n",
       "      <td>Battery voltage measured by a Campbell Scienti...</td>\n",
       "      <td>http://www.campbellsci.com/cr3000</td>\n",
       "    </tr>\n",
       "    <tr>\n",
       "      <th>2</th>\n",
       "      <td>2</td>\n",
       "      <td>Panel temperature measured by a Campbell Scien...</td>\n",
       "      <td>http://www.campbellsci.com/cr3000</td>\n",
       "    </tr>\n",
       "    <tr>\n",
       "      <th>3</th>\n",
       "      <td>3</td>\n",
       "      <td>Relative humidity within the station enclosure...</td>\n",
       "      <td>http://www.campbellsci.com/cs210</td>\n",
       "    </tr>\n",
       "    <tr>\n",
       "      <th>4</th>\n",
       "      <td>4</td>\n",
       "      <td>Indicator of the status of the enclosure door ...</td>\n",
       "      <td>http://www.campbellsci.com/p18166</td>\n",
       "    </tr>\n",
       "  </tbody>\n",
       "</table>\n",
       "</div>"
      ],
      "text/plain": [
       "   MethodID                                  MethodDescription  \\\n",
       "0         0                                No method specified   \n",
       "1         1  Battery voltage measured by a Campbell Scienti...   \n",
       "2         2  Panel temperature measured by a Campbell Scien...   \n",
       "3         3  Relative humidity within the station enclosure...   \n",
       "4         4  Indicator of the status of the enclosure door ...   \n",
       "\n",
       "                          MethodLink  \n",
       "0                               None  \n",
       "1  http://www.campbellsci.com/cr3000  \n",
       "2  http://www.campbellsci.com/cr3000  \n",
       "3   http://www.campbellsci.com/cs210  \n",
       "4  http://www.campbellsci.com/p18166  "
      ]
     },
     "execution_count": 7,
     "metadata": {},
     "output_type": "execute_result"
    }
   ],
   "source": [
    "# read methods table from odm.sqlite using read_sql_query attribute and create pandas DataFrame\n",
    "df = pd.read_sql_query(\"SELECT * FROM methods\", conn)\n",
    "df.head()"
   ]
  },
  {
   "cell_type": "markdown",
   "metadata": {},
   "source": [
    "## (3) plotting variables with sql query"
   ]
  },
  {
   "cell_type": "code",
   "execution_count": null,
   "metadata": {
    "collapsed": true
   },
   "outputs": [],
   "source": [
    "import matplotlib.pyplot as plt\n",
    "from jupyterthemes import jtplot"
   ]
  },
  {
   "cell_type": "code",
   "execution_count": 37,
   "metadata": {},
   "outputs": [
    {
     "data": {
      "text/html": [
       "<div>\n",
       "<style scoped>\n",
       "    .dataframe tbody tr th:only-of-type {\n",
       "        vertical-align: middle;\n",
       "    }\n",
       "\n",
       "    .dataframe tbody tr th {\n",
       "        vertical-align: top;\n",
       "    }\n",
       "\n",
       "    .dataframe thead th {\n",
       "        text-align: right;\n",
       "    }\n",
       "</style>\n",
       "<table border=\"1\" class=\"dataframe\">\n",
       "  <thead>\n",
       "    <tr style=\"text-align: right;\">\n",
       "      <th></th>\n",
       "      <th>LocalDateTime</th>\n",
       "      <th>DataValue</th>\n",
       "    </tr>\n",
       "  </thead>\n",
       "  <tbody>\n",
       "    <tr>\n",
       "      <th>0</th>\n",
       "      <td>1/1/2014 0:00</td>\n",
       "      <td>3.31</td>\n",
       "    </tr>\n",
       "    <tr>\n",
       "      <th>1</th>\n",
       "      <td>1/1/2014 0:15</td>\n",
       "      <td>3.32</td>\n",
       "    </tr>\n",
       "    <tr>\n",
       "      <th>2</th>\n",
       "      <td>1/1/2014 0:30</td>\n",
       "      <td>3.33</td>\n",
       "    </tr>\n",
       "    <tr>\n",
       "      <th>3</th>\n",
       "      <td>1/1/2014 0:45</td>\n",
       "      <td>3.34</td>\n",
       "    </tr>\n",
       "    <tr>\n",
       "      <th>4</th>\n",
       "      <td>1/1/2014 1:00</td>\n",
       "      <td>3.36</td>\n",
       "    </tr>\n",
       "  </tbody>\n",
       "</table>\n",
       "</div>"
      ],
      "text/plain": [
       "   LocalDateTime  DataValue\n",
       "0  1/1/2014 0:00       3.31\n",
       "1  1/1/2014 0:15       3.32\n",
       "2  1/1/2014 0:30       3.33\n",
       "3  1/1/2014 0:45       3.34\n",
       "4  1/1/2014 1:00       3.36"
      ]
     },
     "execution_count": 37,
     "metadata": {},
     "output_type": "execute_result"
    }
   ],
   "source": [
    "# Select Temperature data from VariableID = 1\n",
    "conn = lite.connect('odm.sqlite')\n",
    "df = pd.read_sql_query(\"SELECT LocalDateTime, datavalue FROM datavalues WHERE VariableID=1 and datavalue is not -9999\", conn)\n",
    "df.head()"
   ]
  },
  {
   "cell_type": "code",
   "execution_count": 39,
   "metadata": {},
   "outputs": [
    {
     "data": {
      "image/png": "[encoded data removed]",
      "text/plain": [
       "<matplotlib.figure.Figure at 0x7f16a0e3abe0>"
      ]
     },
     "metadata": {},
     "output_type": "display_data"
    }
   ],
   "source": [
    "DateTime = pd.to_datetime(df['LocalDateTime'].values)\n",
    "df_plot = pd.DataFrame(df['DataValue'].values, index=DateTime, columns=['WaterTemp_EXO'])\n",
    "ax = df_plot.plot()\n",
    "ax.set_xlabel(\"Time (15 min)\")\n",
    "ax.set_ylabel(\"Temperature (Degree Celsius)\")\n",
    "plt.show()\n",
    "jtplot.figsize(x=15, y=4)"
   ]
  },
  {
   "cell_type": "code",
   "execution_count": null,
   "metadata": {
    "collapsed": true
   },
   "outputs": [],
   "source": []
  },
  {
   "cell_type": "code",
   "execution_count": 44,
   "metadata": {},
   "outputs": [
    {
     "data": {
      "text/html": [
       "<div>\n",
       "<style scoped>\n",
       "    .dataframe tbody tr th:only-of-type {\n",
       "        vertical-align: middle;\n",
       "    }\n",
       "\n",
       "    .dataframe tbody tr th {\n",
       "        vertical-align: top;\n",
       "    }\n",
       "\n",
       "    .dataframe thead th {\n",
       "        text-align: right;\n",
       "    }\n",
       "</style>\n",
       "<table border=\"1\" class=\"dataframe\">\n",
       "  <thead>\n",
       "    <tr style=\"text-align: right;\">\n",
       "      <th></th>\n",
       "      <th>LocalDateTime</th>\n",
       "      <th>DataValue</th>\n",
       "    </tr>\n",
       "  </thead>\n",
       "  <tbody>\n",
       "    <tr>\n",
       "      <th>0</th>\n",
       "      <td>1/1/2014 0:00</td>\n",
       "      <td>405.0</td>\n",
       "    </tr>\n",
       "    <tr>\n",
       "      <th>1</th>\n",
       "      <td>1/1/2014 0:15</td>\n",
       "      <td>405.1</td>\n",
       "    </tr>\n",
       "    <tr>\n",
       "      <th>2</th>\n",
       "      <td>1/1/2014 0:30</td>\n",
       "      <td>405.2</td>\n",
       "    </tr>\n",
       "    <tr>\n",
       "      <th>3</th>\n",
       "      <td>1/1/2014 0:45</td>\n",
       "      <td>405.3</td>\n",
       "    </tr>\n",
       "    <tr>\n",
       "      <th>4</th>\n",
       "      <td>1/1/2014 1:00</td>\n",
       "      <td>405.4</td>\n",
       "    </tr>\n",
       "  </tbody>\n",
       "</table>\n",
       "</div>"
      ],
      "text/plain": [
       "   LocalDateTime  DataValue\n",
       "0  1/1/2014 0:00      405.0\n",
       "1  1/1/2014 0:15      405.1\n",
       "2  1/1/2014 0:30      405.2\n",
       "3  1/1/2014 0:45      405.3\n",
       "4  1/1/2014 1:00      405.4"
      ]
     },
     "execution_count": 44,
     "metadata": {},
     "output_type": "execute_result"
    }
   ],
   "source": [
    "# Select specific conductance data from VariableID = 2\n",
    "# Temperature data   (-9996.22 data)\n",
    "conn = lite.connect('odm.sqlite')\n",
    "df = pd.read_sql_query(\"SELECT LocalDateTime, datavalue FROM datavalues WHERE VariableID=2 and datavalue > -9000\", conn)\n",
    "df.head()"
   ]
  },
  {
   "cell_type": "code",
   "execution_count": 45,
   "metadata": {},
   "outputs": [
    {
     "data": {
      "image/png": "[encoded data removed]",
      "text/plain": [
       "<matplotlib.figure.Figure at 0x7f16a79d42b0>"
      ]
     },
     "metadata": {},
     "output_type": "display_data"
    }
   ],
   "source": [
    "DateTime = pd.to_datetime(df['LocalDateTime'].values)\n",
    "df_plot = pd.DataFrame(df['DataValue'].values, index=DateTime, columns=['Specific conductance'])\n",
    "ax = df_plot.plot()\n",
    "ax.set_xlabel(\"Time (15 min)\")\n",
    "ax.set_ylabel(\"Specific conductance (microsiemens per centimeter)\")\n",
    "plt.show()\n",
    "jtplot.figsize(x=15, y=4)"
   ]
  },
  {
   "cell_type": "code",
   "execution_count": 46,
   "metadata": {},
   "outputs": [
    {
     "data": {
      "text/html": [
       "<div>\n",
       "<style scoped>\n",
       "    .dataframe tbody tr th:only-of-type {\n",
       "        vertical-align: middle;\n",
       "    }\n",
       "\n",
       "    .dataframe tbody tr th {\n",
       "        vertical-align: top;\n",
       "    }\n",
       "\n",
       "    .dataframe thead th {\n",
       "        text-align: right;\n",
       "    }\n",
       "</style>\n",
       "<table border=\"1\" class=\"dataframe\">\n",
       "  <thead>\n",
       "    <tr style=\"text-align: right;\">\n",
       "      <th></th>\n",
       "      <th>LocalDateTime</th>\n",
       "      <th>DataValue</th>\n",
       "    </tr>\n",
       "  </thead>\n",
       "  <tbody>\n",
       "    <tr>\n",
       "      <th>0</th>\n",
       "      <td>6/4/2014 15:15</td>\n",
       "      <td>84.3</td>\n",
       "    </tr>\n",
       "    <tr>\n",
       "      <th>1</th>\n",
       "      <td>6/4/2014 15:30</td>\n",
       "      <td>84.4</td>\n",
       "    </tr>\n",
       "    <tr>\n",
       "      <th>2</th>\n",
       "      <td>6/4/2014 15:45</td>\n",
       "      <td>84.6</td>\n",
       "    </tr>\n",
       "    <tr>\n",
       "      <th>3</th>\n",
       "      <td>6/4/2014 16:00</td>\n",
       "      <td>84.7</td>\n",
       "    </tr>\n",
       "    <tr>\n",
       "      <th>4</th>\n",
       "      <td>6/4/2014 16:15</td>\n",
       "      <td>84.7</td>\n",
       "    </tr>\n",
       "  </tbody>\n",
       "</table>\n",
       "</div>"
      ],
      "text/plain": [
       "    LocalDateTime  DataValue\n",
       "0  6/4/2014 15:15       84.3\n",
       "1  6/4/2014 15:30       84.4\n",
       "2  6/4/2014 15:45       84.6\n",
       "3  6/4/2014 16:00       84.7\n",
       "4  6/4/2014 16:15       84.7"
      ]
     },
     "execution_count": 46,
     "metadata": {},
     "output_type": "execute_result"
    }
   ],
   "source": [
    "# Select Stage data from VariableID = 15\n",
    "conn = lite.connect('odm.sqlite')\n",
    "df = pd.read_sql_query(\"SELECT LocalDateTime, datavalue FROM datavalues WHERE VariableID=15 and datavalue is not -9999\", conn)\n",
    "df.head()"
   ]
  },
  {
   "cell_type": "code",
   "execution_count": 47,
   "metadata": {},
   "outputs": [
    {
     "data": {
      "image/png": "[encoded data removed]",
      "text/plain": [
       "<matplotlib.figure.Figure at 0x7f16a85da630>"
      ]
     },
     "metadata": {},
     "output_type": "display_data"
    }
   ],
   "source": [
    "DateTime = pd.to_datetime(df['LocalDateTime'].values)\n",
    "df_plot = pd.DataFrame(df['DataValue'].values, index=DateTime, columns=['Stage'])\n",
    "ax = df_plot.plot()\n",
    "ax.set_xlabel(\"Time (15 min)\")\n",
    "ax.set_ylabel(\"Gage height (cm)\")\n",
    "plt.show()\n",
    "jtplot.figsize(x=15, y=4)"
   ]
  },
  {
   "cell_type": "markdown",
   "metadata": {},
   "source": [
    "## (4) Load additional data from USGS streamflow station\n",
    "####     - SiteCode = 01665500,        SiteName = RAPIDAN RIVER NEAR RUCKERSVILLE, VA"
   ]
  },
  {
   "cell_type": "code",
   "execution_count": null,
   "metadata": {
    "collapsed": true
   },
   "outputs": [],
   "source": [
    "# call sqlite3, import USGS streamflow data using USGS_input.txt which include tables as sites, methods, variables, datavalue, \n",
    "# into odm.sqlite\n",
    "cmd = \"sqlite3 -init USGS_input.txt odm.sqlite\"\n",
    "subprocess.run(cmd, shell=True)"
   ]
  },
  {
   "cell_type": "code",
   "execution_count": 48,
   "metadata": {},
   "outputs": [
    {
     "data": {
      "text/html": [
       "<div>\n",
       "<style scoped>\n",
       "    .dataframe tbody tr th:only-of-type {\n",
       "        vertical-align: middle;\n",
       "    }\n",
       "\n",
       "    .dataframe tbody tr th {\n",
       "        vertical-align: top;\n",
       "    }\n",
       "\n",
       "    .dataframe thead th {\n",
       "        text-align: right;\n",
       "    }\n",
       "</style>\n",
       "<table border=\"1\" class=\"dataframe\">\n",
       "  <thead>\n",
       "    <tr style=\"text-align: right;\">\n",
       "      <th></th>\n",
       "      <th>LocalDateTime</th>\n",
       "      <th>DataValue</th>\n",
       "    </tr>\n",
       "  </thead>\n",
       "  <tbody>\n",
       "    <tr>\n",
       "      <th>0</th>\n",
       "      <td>9/30/2017 0:00</td>\n",
       "      <td>5.50</td>\n",
       "    </tr>\n",
       "    <tr>\n",
       "      <th>1</th>\n",
       "      <td>10/1/2017 0:00</td>\n",
       "      <td>5.44</td>\n",
       "    </tr>\n",
       "    <tr>\n",
       "      <th>2</th>\n",
       "      <td>10/2/2017 0:00</td>\n",
       "      <td>5.37</td>\n",
       "    </tr>\n",
       "    <tr>\n",
       "      <th>3</th>\n",
       "      <td>10/3/2017 0:00</td>\n",
       "      <td>5.99</td>\n",
       "    </tr>\n",
       "    <tr>\n",
       "      <th>4</th>\n",
       "      <td>10/4/2017 0:00</td>\n",
       "      <td>6.43</td>\n",
       "    </tr>\n",
       "  </tbody>\n",
       "</table>\n",
       "</div>"
      ],
      "text/plain": [
       "    LocalDateTime  DataValue\n",
       "0  9/30/2017 0:00       5.50\n",
       "1  10/1/2017 0:00       5.44\n",
       "2  10/2/2017 0:00       5.37\n",
       "3  10/3/2017 0:00       5.99\n",
       "4  10/4/2017 0:00       6.43"
      ]
     },
     "execution_count": 48,
     "metadata": {},
     "output_type": "execute_result"
    }
   ],
   "source": [
    "# Select Streamflow data from VariableID = 17\n",
    "conn = lite.connect('odm.sqlite')\n",
    "df = pd.read_sql_query(\"SELECT LocalDateTime, datavalue FROM datavalues WHERE VariableID=17 and datavalue is not -9999\", conn)\n",
    "df.head()"
   ]
  },
  {
   "cell_type": "code",
   "execution_count": 50,
   "metadata": {},
   "outputs": [
    {
     "data": {
      "image/png": "[encoded data removed]",
      "text/plain": [
       "<matplotlib.figure.Figure at 0x7f1696867668>"
      ]
     },
     "metadata": {},
     "output_type": "display_data"
    }
   ],
   "source": [
    "DateTime = pd.to_datetime(df['LocalDateTime'].values)\n",
    "df_plot = pd.DataFrame(df['DataValue'].values, index=DateTime, columns=['Streamflow'])\n",
    "ax = df_plot.plot()\n",
    "ax.set_xlabel(\"Time (day)\")\n",
    "ax.set_ylabel(\"Streamflow(cubic feet per second,daily mean)\")\n",
    "plt.show()\n",
    "jtplot.figsize(x=15, y=4)"
   ]
  }
 ],
 "metadata": {
  "kernelspec": {
   "display_name": "Python 3",
   "language": "python",
   "name": "python3"
  },
  "language_info": {
   "codemirror_mode": {
    "name": "ipython",
    "version": 3
   },
   "file_extension": ".py",
   "mimetype": "text/x-python",
   "name": "python",
   "nbconvert_exporter": "python",
   "pygments_lexer": "ipython3",
   "version": "3.6.1"
  }
 },
 "nbformat": 4,
 "nbformat_minor": 2
}
